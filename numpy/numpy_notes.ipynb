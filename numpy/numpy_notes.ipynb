{
 "cells": [
  {
   "cell_type": "markdown",
   "id": "267f8268-ee73-4c3d-a401-b7112f314588",
   "metadata": {},
   "source": [
    "### Importing library and basic array"
   ]
  },
  {
   "cell_type": "code",
   "execution_count": 4,
   "id": "e1e1befb-bfe8-4653-8782-c0329ccb2c77",
   "metadata": {},
   "outputs": [
    {
     "name": "stdout",
     "output_type": "stream",
     "text": [
      "[[1 2]\n",
      " [3 4]]\n"
     ]
    }
   ],
   "source": [
    "import numpy as np\n",
    "\n",
    "a = np.array([[1,2],[3,4]], dtype=\"int16\")\n",
    "print(a)"
   ]
  },
  {
   "cell_type": "markdown",
   "id": "40132896-b6c4-488a-846e-fd6894d8eaed",
   "metadata": {},
   "source": [
    "### Printing characteristcs of an Array"
   ]
  },
  {
   "cell_type": "code",
   "execution_count": 7,
   "id": "29181518-59cb-412d-af0e-bf0c0f28d75a",
   "metadata": {},
   "outputs": [
    {
     "data": {
      "text/plain": [
       "2"
      ]
     },
     "execution_count": 7,
     "metadata": {},
     "output_type": "execute_result"
    }
   ],
   "source": [
    "# number of dimentions\n",
    "a.ndim"
   ]
  },
  {
   "cell_type": "code",
   "execution_count": 8,
   "id": "53cfd239-c683-474e-aee2-c1b2c143224e",
   "metadata": {},
   "outputs": [
    {
     "data": {
      "text/plain": [
       "(2, 2)"
      ]
     },
     "execution_count": 8,
     "metadata": {},
     "output_type": "execute_result"
    }
   ],
   "source": [
    "# shape of the array - this is a tuple with dimention's size\n",
    "a.shape"
   ]
  },
  {
   "cell_type": "code",
   "execution_count": 9,
   "id": "9ea2c73a-1d6a-4674-88bb-474fc805228c",
   "metadata": {},
   "outputs": [
    {
     "data": {
      "text/plain": [
       "dtype('int8')"
      ]
     },
     "execution_count": 9,
     "metadata": {},
     "output_type": "execute_result"
    }
   ],
   "source": [
    "# basic data type\n",
    "a.dtype"
   ]
  },
  {
   "cell_type": "code",
   "execution_count": 14,
   "id": "beeeb8fa-fb23-4043-ada7-0862ba1d0a36",
   "metadata": {},
   "outputs": [
    {
     "data": {
      "text/plain": [
       "4"
      ]
     },
     "execution_count": 14,
     "metadata": {},
     "output_type": "execute_result"
    }
   ],
   "source": [
    "# number of elements in the array\n",
    "a.size"
   ]
  },
  {
   "cell_type": "code",
   "execution_count": 13,
   "id": "5bdd43f7-8f25-4ff7-b041-24286d8b8eb6",
   "metadata": {},
   "outputs": [
    {
     "data": {
      "text/plain": [
       "8"
      ]
     },
     "execution_count": 13,
     "metadata": {},
     "output_type": "execute_result"
    }
   ],
   "source": [
    "# number of bytes used in the array\n",
    "a.nbytes"
   ]
  },
  {
   "cell_type": "code",
   "execution_count": 16,
   "id": "ef7860fc-e688-4689-99d9-9b0871110128",
   "metadata": {},
   "outputs": [
    {
     "data": {
      "text/plain": [
       "2"
      ]
     },
     "execution_count": 16,
     "metadata": {},
     "output_type": "execute_result"
    }
   ],
   "source": [
    "# number of bytes of data type\n",
    "a.itemsize"
   ]
  },
  {
   "cell_type": "markdown",
   "id": "3a82bcfe-36fd-4185-a807-7d3c1b32ab53",
   "metadata": {},
   "source": [
    "### Accessing and updating elements in array"
   ]
  },
  {
   "cell_type": "code",
   "execution_count": 17,
   "id": "5ca945ee-ed2e-482f-8e81-f7699ae946d1",
   "metadata": {},
   "outputs": [
    {
     "data": {
      "text/plain": [
       "4"
      ]
     },
     "execution_count": 17,
     "metadata": {},
     "output_type": "execute_result"
    }
   ],
   "source": [
    "# accessing one specific element\n",
    "a[1,1]"
   ]
  },
  {
   "cell_type": "code",
   "execution_count": 20,
   "id": "2c11ed84-6b5b-4b37-8471-64f6ed8c4698",
   "metadata": {},
   "outputs": [
    {
     "data": {
      "text/plain": [
       "array([1, 2], dtype=int16)"
      ]
     },
     "execution_count": 20,
     "metadata": {},
     "output_type": "execute_result"
    }
   ],
   "source": [
    "# accessing first row\n",
    "a[0, :]"
   ]
  },
  {
   "cell_type": "code",
   "execution_count": 21,
   "id": "706994d4-cec6-40a8-bf58-d9a958e8ac00",
   "metadata": {},
   "outputs": [
    {
     "data": {
      "text/plain": [
       "array([1, 3], dtype=int16)"
      ]
     },
     "execution_count": 21,
     "metadata": {},
     "output_type": "execute_result"
    }
   ],
   "source": [
    "# Fetching first column\n",
    "a[: , 0]"
   ]
  },
  {
   "cell_type": "code",
   "execution_count": 26,
   "id": "481a57f9-6f2c-4c2b-849f-5be6b0a8958e",
   "metadata": {},
   "outputs": [
    {
     "name": "stdout",
     "output_type": "stream",
     "text": [
      "[[ 1 99]\n",
      " [ 3 99]]\n"
     ]
    }
   ],
   "source": [
    "# Updating a specific column\n",
    "a[: , 1] = (99, 99)\n",
    "print(a)"
   ]
  },
  {
   "cell_type": "markdown",
   "id": "3915dea9-2019-41e5-b5ba-7c4165c16051",
   "metadata": {},
   "source": [
    "### Generating specific matrixes"
   ]
  },
  {
   "cell_type": "code",
   "execution_count": 31,
   "id": "37b99a8b-41e3-4128-ac9f-560891c2cdc8",
   "metadata": {},
   "outputs": [
    {
     "data": {
      "text/plain": [
       "array([[1, 1, 1],\n",
       "       [1, 1, 1],\n",
       "       [1, 1, 1]], dtype=int8)"
      ]
     },
     "execution_count": 31,
     "metadata": {},
     "output_type": "execute_result"
    }
   ],
   "source": [
    "# creates arrays of 1s\n",
    "np.ones((3, 3), dtype=\"int8\")"
   ]
  },
  {
   "cell_type": "code",
   "execution_count": 32,
   "id": "2eec2554-5a17-4b23-88f3-7d46dbb5652d",
   "metadata": {},
   "outputs": [
    {
     "data": {
      "text/plain": [
       "array([[0, 0, 0],\n",
       "       [0, 0, 0],\n",
       "       [0, 0, 0]], dtype=int8)"
      ]
     },
     "execution_count": 32,
     "metadata": {},
     "output_type": "execute_result"
    }
   ],
   "source": [
    "# creates arrays of 0s\n",
    "np.zeros((3,3), dtype=\"int8\")"
   ]
  },
  {
   "cell_type": "code",
   "execution_count": 34,
   "id": "4d95c837-e2fc-4d55-b9c5-e2234896f1ec",
   "metadata": {},
   "outputs": [
    {
     "data": {
      "text/plain": [
       "array([[99, 99],\n",
       "       [99, 99]])"
      ]
     },
     "execution_count": 34,
     "metadata": {},
     "output_type": "execute_result"
    }
   ],
   "source": [
    "# creates arrays fileld with specific value\n",
    "np.full((2,2), 99)"
   ]
  },
  {
   "cell_type": "code",
   "execution_count": 40,
   "id": "75daf86f-d0fe-4181-bada-4cb4b114b093",
   "metadata": {},
   "outputs": [
    {
     "data": {
      "text/plain": [
       "array([[0.04652306, 0.46851432],\n",
       "       [0.081302  , 0.39715904]])"
      ]
     },
     "execution_count": 40,
     "metadata": {},
     "output_type": "execute_result"
    }
   ],
   "source": [
    "# Generate random float values arrays\n",
    "np.random.rand(2,2)"
   ]
  },
  {
   "cell_type": "code",
   "execution_count": 41,
   "id": "f6746cfd-3bde-473c-b6d5-3f1ade5d9275",
   "metadata": {},
   "outputs": [
    {
     "data": {
      "text/plain": [
       "array([[1, 6],\n",
       "       [6, 2]])"
      ]
     },
     "execution_count": 41,
     "metadata": {},
     "output_type": "execute_result"
    }
   ],
   "source": [
    "# Generate random int values arrays \n",
    "np.random.randint(7, size=(2,2))"
   ]
  },
  {
   "cell_type": "code",
   "execution_count": 43,
   "id": "79af0a7f-d885-45d3-984e-1eac0c3df5a8",
   "metadata": {},
   "outputs": [
    {
     "data": {
      "text/plain": [
       "array([[1., 0., 0., 0., 0.],\n",
       "       [0., 1., 0., 0., 0.],\n",
       "       [0., 0., 1., 0., 0.],\n",
       "       [0., 0., 0., 1., 0.],\n",
       "       [0., 0., 0., 0., 1.]])"
      ]
     },
     "execution_count": 43,
     "metadata": {},
     "output_type": "execute_result"
    }
   ],
   "source": [
    "# Generate identity matrixes\n",
    "np.identity(5)"
   ]
  },
  {
   "cell_type": "markdown",
   "id": "f9da887c-16e2-4df9-ad39-d76a57235000",
   "metadata": {},
   "source": [
    "### Transformations and Mathematical operations"
   ]
  },
  {
   "cell_type": "code",
   "execution_count": 45,
   "id": "db72f0de-e9a0-4025-9fcd-c69bc5b201b0",
   "metadata": {},
   "outputs": [
    {
     "data": {
      "text/plain": [
       "array([[2, 4],\n",
       "       [6, 8]], dtype=int16)"
      ]
     },
     "execution_count": 45,
     "metadata": {},
     "output_type": "execute_result"
    }
   ],
   "source": [
    "a * 2"
   ]
  },
  {
   "cell_type": "code",
   "execution_count": 46,
   "id": "382cf384-06e2-4007-872a-f74018f100cd",
   "metadata": {},
   "outputs": [
    {
     "data": {
      "text/plain": [
       "array([[0.5, 1. ],\n",
       "       [1.5, 2. ]])"
      ]
     },
     "execution_count": 46,
     "metadata": {},
     "output_type": "execute_result"
    }
   ],
   "source": [
    "a / 2"
   ]
  },
  {
   "cell_type": "code",
   "execution_count": 47,
   "id": "d7090f5f-e1b9-4acd-bf44-a5d4353912ac",
   "metadata": {},
   "outputs": [
    {
     "data": {
      "text/plain": [
       "array([[ 1,  4],\n",
       "       [ 9, 16]], dtype=int16)"
      ]
     },
     "execution_count": 47,
     "metadata": {},
     "output_type": "execute_result"
    }
   ],
   "source": [
    "a ** 2"
   ]
  },
  {
   "cell_type": "code",
   "execution_count": 51,
   "id": "6889efb7-deb5-46fd-951c-ecebd23590a0",
   "metadata": {},
   "outputs": [
    {
     "data": {
      "text/plain": [
       "array([[6, 7],\n",
       "       [8, 9]], dtype=int16)"
      ]
     },
     "execution_count": 51,
     "metadata": {},
     "output_type": "execute_result"
    }
   ],
   "source": [
    "a + 5"
   ]
  },
  {
   "cell_type": "code",
   "execution_count": 50,
   "id": "f0aa8729-bef7-49cf-b676-7417846ffba2",
   "metadata": {},
   "outputs": [
    {
     "data": {
      "text/plain": [
       "array([1, 2, 3, 4], dtype=int16)"
      ]
     },
     "execution_count": 50,
     "metadata": {},
     "output_type": "execute_result"
    }
   ],
   "source": [
    "# reshaping an array\n",
    "a.reshape((4))"
   ]
  },
  {
   "cell_type": "code",
   "execution_count": 60,
   "id": "fe2666bd-8e13-41e1-9460-1f8ec54b7334",
   "metadata": {},
   "outputs": [
    {
     "data": {
      "text/plain": [
       "array([[1, 2, 3],\n",
       "       [1, 2, 3],\n",
       "       [1, 2, 3]])"
      ]
     },
     "execution_count": 60,
     "metadata": {},
     "output_type": "execute_result"
    }
   ],
   "source": [
    "# repeat the content of an specific array\n",
    "b = np.array([[1,2,3]])\n",
    "np.repeat(b, 3, axis=0)"
   ]
  },
  {
   "cell_type": "code",
   "execution_count": 68,
   "id": "c3b69b21-da52-4e47-82b5-5f6fe0c8447f",
   "metadata": {},
   "outputs": [
    {
     "data": {
      "text/plain": [
       "array([[1, 2, 3],\n",
       "       [4, 5, 6]])"
      ]
     },
     "execution_count": 68,
     "metadata": {},
     "output_type": "execute_result"
    }
   ],
   "source": [
    "b = np.array([1,2,3])\n",
    "c = np.array([4,5,6])\n",
    "np.vstack([b,c])"
   ]
  },
  {
   "cell_type": "code",
   "execution_count": 69,
   "id": "dcab9f73-881e-48cc-ae2e-10d548e46f60",
   "metadata": {},
   "outputs": [
    {
     "data": {
      "text/plain": [
       "array([1, 2, 3, 4, 5, 6])"
      ]
     },
     "execution_count": 69,
     "metadata": {},
     "output_type": "execute_result"
    }
   ],
   "source": [
    "np.hstack([b,c])"
   ]
  },
  {
   "cell_type": "markdown",
   "id": "244e1308-ed73-4ed8-a368-1598c1f04b48",
   "metadata": {},
   "source": [
    "### Statistics"
   ]
  },
  {
   "cell_type": "code",
   "execution_count": 9,
   "id": "eb843b24-78af-4613-a23d-61bee905c295",
   "metadata": {},
   "outputs": [
    {
     "data": {
      "text/plain": [
       "4"
      ]
     },
     "execution_count": 9,
     "metadata": {},
     "output_type": "execute_result"
    }
   ],
   "source": [
    "# or a.max() - returns max value inside Array\n",
    "np.max(a)"
   ]
  },
  {
   "cell_type": "code",
   "execution_count": 10,
   "id": "2a145fc0-d398-468f-abee-bd26e4e5200e",
   "metadata": {},
   "outputs": [
    {
     "data": {
      "text/plain": [
       "1"
      ]
     },
     "execution_count": 10,
     "metadata": {},
     "output_type": "execute_result"
    }
   ],
   "source": [
    "# or a.min() - returns min value inside Array\n",
    "np.min(a)"
   ]
  },
  {
   "cell_type": "code",
   "execution_count": 17,
   "id": "f0518e9e-f134-4ec9-8519-5e477deb4993",
   "metadata": {},
   "outputs": [
    {
     "data": {
      "text/plain": [
       "array([2, 4], dtype=int16)"
      ]
     },
     "execution_count": 17,
     "metadata": {},
     "output_type": "execute_result"
    }
   ],
   "source": [
    "# returns an array with max value of each internal Array\n",
    "np.max(a, axis=1)"
   ]
  },
  {
   "cell_type": "code",
   "execution_count": 21,
   "id": "e3cc3c10-11de-4e19-82e4-e3f6ba0fc44b",
   "metadata": {},
   "outputs": [
    {
     "data": {
      "text/plain": [
       "10"
      ]
     },
     "execution_count": 21,
     "metadata": {},
     "output_type": "execute_result"
    }
   ],
   "source": [
    "# returns a summation of all elements in an array\n",
    "np.sum(a)"
   ]
  },
  {
   "cell_type": "code",
   "execution_count": 27,
   "id": "29f27fce-c25f-4044-aa11-37d76b2bfd93",
   "metadata": {},
   "outputs": [
    {
     "data": {
      "text/plain": [
       "array([3, 7])"
      ]
     },
     "execution_count": 27,
     "metadata": {},
     "output_type": "execute_result"
    }
   ],
   "source": [
    "# returns summation of rows\n",
    "np.sum(a, axis=1)"
   ]
  },
  {
   "cell_type": "code",
   "execution_count": 31,
   "id": "9de0dad8-dafd-4476-9706-c23c5be88004",
   "metadata": {},
   "outputs": [
    {
     "data": {
      "text/plain": [
       "2.5"
      ]
     },
     "execution_count": 31,
     "metadata": {},
     "output_type": "execute_result"
    }
   ],
   "source": [
    "# returns average\n",
    "np.average(a)"
   ]
  },
  {
   "cell_type": "markdown",
   "id": "3e0c0231-205c-431b-930f-beec1e548810",
   "metadata": {},
   "source": [
    "### Linear Algebra"
   ]
  },
  {
   "cell_type": "code",
   "execution_count": 100,
   "id": "ca873c95-db34-4318-8b4a-a23435f485cf",
   "metadata": {},
   "outputs": [
    {
     "name": "stdout",
     "output_type": "stream",
     "text": [
      "[[6 2 0]\n",
      " [2 6 1]]\n",
      "[[2 3]\n",
      " [4 6]\n",
      " [1 2]]\n"
     ]
    },
    {
     "data": {
      "text/plain": [
       "array([[20, 30],\n",
       "       [29, 44]])"
      ]
     },
     "execution_count": 100,
     "metadata": {},
     "output_type": "execute_result"
    }
   ],
   "source": [
    "# Matrix multiplication\n",
    "a = np.random.randint(7, size=(2,3))\n",
    "b = np.random.randint(7, size=(3,2))\n",
    "print(a)\n",
    "print(b)\n",
    "np.matmul(a,b)"
   ]
  },
  {
   "cell_type": "code",
   "execution_count": 102,
   "id": "50c99a21-3ca2-4d8e-bd25-fea7fcf4e561",
   "metadata": {},
   "outputs": [
    {
     "data": {
      "text/plain": [
       "array([[1., 0., 0.],\n",
       "       [0., 1., 0.],\n",
       "       [0., 0., 1.]])"
      ]
     },
     "execution_count": 102,
     "metadata": {},
     "output_type": "execute_result"
    }
   ],
   "source": [
    "# Generating identity matrix\n",
    "np.identity(3)"
   ]
  },
  {
   "cell_type": "code",
   "execution_count": 103,
   "id": "74d16d39-e9bd-4f02-a915-854a217165b1",
   "metadata": {},
   "outputs": [
    {
     "data": {
      "text/plain": [
       "1.0"
      ]
     },
     "execution_count": 103,
     "metadata": {},
     "output_type": "execute_result"
    }
   ],
   "source": [
    "# Determinant of a identity matrix is 1\n",
    "c = np.identity(3)\n",
    "np.linalg.det(c)"
   ]
  },
  {
   "cell_type": "code",
   "execution_count": 98,
   "id": "08589606-9216-4b2e-8456-c5fd90413aed",
   "metadata": {},
   "outputs": [
    {
     "name": "stdout",
     "output_type": "stream",
     "text": [
      "[[2 0 2]\n",
      " [2 3 3]\n",
      " [2 6 6]]\n"
     ]
    },
    {
     "data": {
      "text/plain": [
       "array([[ 0.        ,  1.        , -0.5       ],\n",
       "       [-0.5       ,  0.66666667, -0.16666667],\n",
       "       [ 0.5       , -1.        ,  0.5       ]])"
      ]
     },
     "execution_count": 98,
     "metadata": {},
     "output_type": "execute_result"
    }
   ],
   "source": [
    "# inverted matrix (A * A**-1 == Determinant)\n",
    "c = np.random.randint(7, size=(3,3))\n",
    "print(c)\n",
    "np.linalg.inv(c)"
   ]
  },
  {
   "cell_type": "markdown",
   "id": "e15673d3-ade9-429e-b632-0c970d19a95d",
   "metadata": {},
   "source": [
    "### File IO - Reading and Writing"
   ]
  },
  {
   "cell_type": "code",
   "execution_count": 106,
   "id": "d392f29a-74e5-402c-8d02-45273b0f9310",
   "metadata": {},
   "outputs": [
    {
     "data": {
      "text/plain": [
       "array([[ 1,  2,  3,  4,  5],\n",
       "       [ 6,  7,  8,  9, 10]])"
      ]
     },
     "execution_count": 106,
     "metadata": {},
     "output_type": "execute_result"
    }
   ],
   "source": [
    "# Reading data from file\n",
    "a = np.genfromtxt(\"data.txt\", delimiter=\",\", dtype=\"int\")\n",
    "a"
   ]
  },
  {
   "cell_type": "code",
   "execution_count": 107,
   "id": "a777f9af-d6a9-4a20-8002-595661adde8a",
   "metadata": {},
   "outputs": [
    {
     "data": {
      "text/plain": [
       "array([[ 1,  2,  3,  4, 99],\n",
       "       [ 6,  7,  8,  9, 99]])"
      ]
     },
     "execution_count": 107,
     "metadata": {},
     "output_type": "execute_result"
    }
   ],
   "source": [
    "a[: , -1] = (99, 99)\n",
    "a"
   ]
  },
  {
   "cell_type": "code",
   "execution_count": 108,
   "id": "2036dde1-837e-4cc4-adf3-a0e2c3d913b1",
   "metadata": {},
   "outputs": [],
   "source": [
    "# Writing array to file\n",
    "np.savetxt(\"data_002.txt\", a, fmt=\"%d\", delimiter=\",\")"
   ]
  },
  {
   "cell_type": "code",
   "execution_count": 109,
   "id": "705bc918-8bb4-4339-bd1c-f502ec557ca3",
   "metadata": {},
   "outputs": [
    {
     "data": {
      "text/plain": [
       "array([[ 1,  2,  3,  4, 99],\n",
       "       [ 6,  7,  8,  9, 99]])"
      ]
     },
     "execution_count": 109,
     "metadata": {},
     "output_type": "execute_result"
    }
   ],
   "source": [
    "b = np.genfromtxt(\"data_002.txt\", delimiter=\",\", dtype=\"int\")\n",
    "b"
   ]
  },
  {
   "cell_type": "markdown",
   "id": "1d08d60d-c833-4401-8155-fe188e7c0e2c",
   "metadata": {},
   "source": [
    "### Advanced Indexing"
   ]
  },
  {
   "cell_type": "code",
   "execution_count": 95,
   "id": "f49e8af2-f92d-4d4d-887e-31f10040fb3c",
   "metadata": {},
   "outputs": [
    {
     "data": {
      "text/plain": [
       "array([[False, False, False, False,  True],\n",
       "       [False, False, False, False,  True]])"
      ]
     },
     "execution_count": 95,
     "metadata": {},
     "output_type": "execute_result"
    }
   ],
   "source": [
    "# Where in b is greater than 50\n",
    "b > 50"
   ]
  },
  {
   "cell_type": "code",
   "execution_count": 79,
   "id": "e0f696d8-f9cf-4176-8506-5de3985b2292",
   "metadata": {},
   "outputs": [
    {
     "data": {
      "text/plain": [
       "array([99, 99])"
      ]
     },
     "execution_count": 79,
     "metadata": {},
     "output_type": "execute_result"
    }
   ],
   "source": [
    "# filter only values greater than 50\n",
    "b[b > 50]"
   ]
  },
  {
   "cell_type": "code",
   "execution_count": 94,
   "id": "aafb57c8-57af-4971-8f7b-f7d047caf24f",
   "metadata": {},
   "outputs": [
    {
     "data": {
      "text/plain": [
       "array([1, 5, 9])"
      ]
     },
     "execution_count": 94,
     "metadata": {},
     "output_type": "execute_result"
    }
   ],
   "source": [
    "# multiple indexes at once\n",
    "a = np.array([1,2,3,4,5,6,7,8,9])\n",
    "a[[0,4,8]]"
   ]
  },
  {
   "cell_type": "code",
   "execution_count": 91,
   "id": "d3d32c20-9b10-4f4e-9afc-dd5cf28fcf5b",
   "metadata": {},
   "outputs": [
    {
     "data": {
      "text/plain": [
       "array([False, False, False,  True,  True])"
      ]
     },
     "execution_count": 91,
     "metadata": {},
     "output_type": "execute_result"
    }
   ],
   "source": [
    "# columns containing at least one value greater than 8\n",
    "np.any(b > 8, axis=0)"
   ]
  },
  {
   "cell_type": "code",
   "execution_count": 110,
   "id": "c8756c33-bf9b-43e5-8abd-dccdf5c9456f",
   "metadata": {},
   "outputs": [
    {
     "data": {
      "text/plain": [
       "array([False, False, False, False,  True])"
      ]
     },
     "execution_count": 110,
     "metadata": {},
     "output_type": "execute_result"
    }
   ],
   "source": [
    "# columns containing all elements greater than 8\n",
    "np.all(b > 8, axis=0)"
   ]
  },
  {
   "cell_type": "code",
   "execution_count": 111,
   "id": "f07f5c5c-29eb-400c-9f82-1050779c86d1",
   "metadata": {},
   "outputs": [
    {
     "data": {
      "text/plain": [
       "array([[False, False, False,  True, False],\n",
       "       [ True,  True, False, False, False]])"
      ]
     },
     "execution_count": 111,
     "metadata": {},
     "output_type": "execute_result"
    }
   ],
   "source": [
    "# bolean logic and multiple conditions\n",
    "((b > 3) & (b <8))"
   ]
  },
  {
   "cell_type": "code",
   "execution_count": 118,
   "id": "ec843b83-1b48-44f3-a6bc-b7c8d447082c",
   "metadata": {},
   "outputs": [
    {
     "data": {
      "text/plain": [
       "array([[ 1,  2,  3,  4,  5],\n",
       "       [ 6,  7,  8,  9, 10],\n",
       "       [11, 12, 13, 14, 15],\n",
       "       [16, 17, 18, 19, 20],\n",
       "       [21, 22, 23, 24, 25],\n",
       "       [26, 27, 28, 29, 30]])"
      ]
     },
     "execution_count": 118,
     "metadata": {},
     "output_type": "execute_result"
    }
   ],
   "source": [
    "example = np.arange(1,31).reshape(6,5)\n",
    "example"
   ]
  },
  {
   "cell_type": "code",
   "execution_count": 120,
   "id": "bb92f1fa-91a8-4662-a22d-bbdce2883e73",
   "metadata": {},
   "outputs": [
    {
     "data": {
      "text/plain": [
       "array([[11, 12],\n",
       "       [16, 17]])"
      ]
     },
     "execution_count": 120,
     "metadata": {},
     "output_type": "execute_result"
    }
   ],
   "source": [
    "example[2:4, 0:2]"
   ]
  },
  {
   "cell_type": "code",
   "execution_count": 130,
   "id": "46ef0f2e-42a0-4c44-95f3-25eb35ae04b0",
   "metadata": {},
   "outputs": [
    {
     "data": {
      "text/plain": [
       "array([ 2,  8, 14, 20])"
      ]
     },
     "execution_count": 130,
     "metadata": {},
     "output_type": "execute_result"
    }
   ],
   "source": [
    "a = example[0:-2, 1:]\n",
    "a[np.identity(4) == 1]"
   ]
  },
  {
   "cell_type": "code",
   "execution_count": 132,
   "id": "77196d77-535e-4b4f-b002-3321e0ee2b99",
   "metadata": {},
   "outputs": [
    {
     "data": {
      "text/plain": [
       "array([ 2,  8, 14, 20])"
      ]
     },
     "execution_count": 132,
     "metadata": {},
     "output_type": "execute_result"
    }
   ],
   "source": [
    "example[[0,1,2,3],[1,2,3,4]] "
   ]
  },
  {
   "cell_type": "code",
   "execution_count": 145,
   "id": "1415aecb-62b6-4d95-a831-91c35f21dca7",
   "metadata": {},
   "outputs": [
    {
     "data": {
      "text/plain": [
       "array([[ 4,  5],\n",
       "       [24, 25],\n",
       "       [29, 30]])"
      ]
     },
     "execution_count": 145,
     "metadata": {},
     "output_type": "execute_result"
    }
   ],
   "source": [
    "example[[0, 4, 5],3:]"
   ]
  },
  {
   "cell_type": "code",
   "execution_count": null,
   "id": "2d95867a-a42c-4a37-b829-222df7e54574",
   "metadata": {},
   "outputs": [],
   "source": []
  }
 ],
 "metadata": {
  "kernelspec": {
   "display_name": "Python 3 (ipykernel)",
   "language": "python",
   "name": "python3"
  },
  "language_info": {
   "codemirror_mode": {
    "name": "ipython",
    "version": 3
   },
   "file_extension": ".py",
   "mimetype": "text/x-python",
   "name": "python",
   "nbconvert_exporter": "python",
   "pygments_lexer": "ipython3",
   "version": "3.8.3"
  }
 },
 "nbformat": 4,
 "nbformat_minor": 5
}
