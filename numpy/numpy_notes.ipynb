{
 "cells": [
  {
   "cell_type": "markdown",
   "id": "267f8268-ee73-4c3d-a401-b7112f314588",
   "metadata": {},
   "source": [
    "## Importing library and basic array"
   ]
  },
  {
   "cell_type": "code",
   "execution_count": 1,
   "id": "e1e1befb-bfe8-4653-8782-c0329ccb2c77",
   "metadata": {},
   "outputs": [
    {
     "name": "stdout",
     "output_type": "stream",
     "text": [
      "[[1 2]\n",
      " [3 4]]\n"
     ]
    }
   ],
   "source": [
    "import numpy as np\n",
    "\n",
    "a = np.array([[1,2],[3,4]], dtype=\"int16\")\n",
    "print(a)"
   ]
  },
  {
   "cell_type": "markdown",
   "id": "40132896-b6c4-488a-846e-fd6894d8eaed",
   "metadata": {},
   "source": [
    "## Printing characteristcs of an Array"
   ]
  },
  {
   "cell_type": "code",
   "execution_count": 2,
   "id": "29181518-59cb-412d-af0e-bf0c0f28d75a",
   "metadata": {},
   "outputs": [
    {
     "data": {
      "text/plain": [
       "2"
      ]
     },
     "execution_count": 2,
     "metadata": {},
     "output_type": "execute_result"
    }
   ],
   "source": [
    "# number of dimentions\n",
    "a.ndim"
   ]
  },
  {
   "cell_type": "code",
   "execution_count": 3,
   "id": "53cfd239-c683-474e-aee2-c1b2c143224e",
   "metadata": {},
   "outputs": [
    {
     "data": {
      "text/plain": [
       "(2, 2)"
      ]
     },
     "execution_count": 3,
     "metadata": {},
     "output_type": "execute_result"
    }
   ],
   "source": [
    "# shape of the array - this is a tuple with dimention's size\n",
    "a.shape"
   ]
  },
  {
   "cell_type": "code",
   "execution_count": 4,
   "id": "9ea2c73a-1d6a-4674-88bb-474fc805228c",
   "metadata": {},
   "outputs": [
    {
     "data": {
      "text/plain": [
       "dtype('int16')"
      ]
     },
     "execution_count": 4,
     "metadata": {},
     "output_type": "execute_result"
    }
   ],
   "source": [
    "# basic data type\n",
    "a.dtype"
   ]
  },
  {
   "cell_type": "code",
   "execution_count": 5,
   "id": "beeeb8fa-fb23-4043-ada7-0862ba1d0a36",
   "metadata": {},
   "outputs": [
    {
     "data": {
      "text/plain": [
       "4"
      ]
     },
     "execution_count": 5,
     "metadata": {},
     "output_type": "execute_result"
    }
   ],
   "source": [
    "# number of elements in the array\n",
    "a.size"
   ]
  },
  {
   "cell_type": "code",
   "execution_count": 6,
   "id": "5bdd43f7-8f25-4ff7-b041-24286d8b8eb6",
   "metadata": {},
   "outputs": [
    {
     "data": {
      "text/plain": [
       "8"
      ]
     },
     "execution_count": 6,
     "metadata": {},
     "output_type": "execute_result"
    }
   ],
   "source": [
    "# number of bytes used in the array\n",
    "a.nbytes"
   ]
  },
  {
   "cell_type": "code",
   "execution_count": 7,
   "id": "ef7860fc-e688-4689-99d9-9b0871110128",
   "metadata": {},
   "outputs": [
    {
     "data": {
      "text/plain": [
       "2"
      ]
     },
     "execution_count": 7,
     "metadata": {},
     "output_type": "execute_result"
    }
   ],
   "source": [
    "# number of bytes of data type\n",
    "a.itemsize"
   ]
  },
  {
   "cell_type": "markdown",
   "id": "3a82bcfe-36fd-4185-a807-7d3c1b32ab53",
   "metadata": {},
   "source": [
    "## Accessing and updating elements in array"
   ]
  },
  {
   "cell_type": "code",
   "execution_count": 8,
   "id": "5ca945ee-ed2e-482f-8e81-f7699ae946d1",
   "metadata": {},
   "outputs": [
    {
     "data": {
      "text/plain": [
       "4"
      ]
     },
     "execution_count": 8,
     "metadata": {},
     "output_type": "execute_result"
    }
   ],
   "source": [
    "# accessing one specific element\n",
    "a[1,1]"
   ]
  },
  {
   "cell_type": "code",
   "execution_count": 9,
   "id": "2c11ed84-6b5b-4b37-8471-64f6ed8c4698",
   "metadata": {},
   "outputs": [
    {
     "data": {
      "text/plain": [
       "array([1, 2], dtype=int16)"
      ]
     },
     "execution_count": 9,
     "metadata": {},
     "output_type": "execute_result"
    }
   ],
   "source": [
    "# accessing first row\n",
    "a[0, :]"
   ]
  },
  {
   "cell_type": "code",
   "execution_count": 10,
   "id": "706994d4-cec6-40a8-bf58-d9a958e8ac00",
   "metadata": {},
   "outputs": [
    {
     "data": {
      "text/plain": [
       "array([1, 3], dtype=int16)"
      ]
     },
     "execution_count": 10,
     "metadata": {},
     "output_type": "execute_result"
    }
   ],
   "source": [
    "# Fetching first column\n",
    "a[: , 0]"
   ]
  },
  {
   "cell_type": "code",
   "execution_count": 11,
   "id": "481a57f9-6f2c-4c2b-849f-5be6b0a8958e",
   "metadata": {},
   "outputs": [
    {
     "name": "stdout",
     "output_type": "stream",
     "text": [
      "[[ 1 99]\n",
      " [ 3 99]]\n"
     ]
    }
   ],
   "source": [
    "# Updating a specific column\n",
    "a[: , 1] = (99, 99)\n",
    "print(a)"
   ]
  },
  {
   "cell_type": "code",
   "execution_count": 12,
   "id": "6a5bd93f-6ad3-4d4a-b07e-b0149a33bade",
   "metadata": {},
   "outputs": [
    {
     "data": {
      "text/plain": [
       "array([1, 4, 5])"
      ]
     },
     "execution_count": 12,
     "metadata": {},
     "output_type": "execute_result"
    }
   ],
   "source": [
    "# \"Fancy indexing\" == specifing a list with indexes \n",
    "l1 = np.array([1,2,3,4,5,6], dtype=\"int\")\n",
    "l1[[0,3,4]]"
   ]
  },
  {
   "cell_type": "markdown",
   "id": "3915dea9-2019-41e5-b5ba-7c4165c16051",
   "metadata": {},
   "source": [
    "## Generating specific matrixes"
   ]
  },
  {
   "cell_type": "code",
   "execution_count": 13,
   "id": "37b99a8b-41e3-4128-ac9f-560891c2cdc8",
   "metadata": {},
   "outputs": [
    {
     "data": {
      "text/plain": [
       "array([[1, 1, 1],\n",
       "       [1, 1, 1],\n",
       "       [1, 1, 1]], dtype=int8)"
      ]
     },
     "execution_count": 13,
     "metadata": {},
     "output_type": "execute_result"
    }
   ],
   "source": [
    "# creates arrays of 1s\n",
    "np.ones((3, 3), dtype=\"int8\")"
   ]
  },
  {
   "cell_type": "code",
   "execution_count": 14,
   "id": "2eec2554-5a17-4b23-88f3-7d46dbb5652d",
   "metadata": {},
   "outputs": [
    {
     "data": {
      "text/plain": [
       "array([[0, 0, 0],\n",
       "       [0, 0, 0],\n",
       "       [0, 0, 0]], dtype=int8)"
      ]
     },
     "execution_count": 14,
     "metadata": {},
     "output_type": "execute_result"
    }
   ],
   "source": [
    "# creates arrays of 0s\n",
    "np.zeros((3,3), dtype=\"int8\")"
   ]
  },
  {
   "cell_type": "code",
   "execution_count": 15,
   "id": "4d95c837-e2fc-4d55-b9c5-e2234896f1ec",
   "metadata": {},
   "outputs": [
    {
     "data": {
      "text/plain": [
       "array([[99, 99],\n",
       "       [99, 99]])"
      ]
     },
     "execution_count": 15,
     "metadata": {},
     "output_type": "execute_result"
    }
   ],
   "source": [
    "# creates arrays fileld with specific value\n",
    "np.full((2,2), 99)"
   ]
  },
  {
   "cell_type": "code",
   "execution_count": 16,
   "id": "75daf86f-d0fe-4181-bada-4cb4b114b093",
   "metadata": {},
   "outputs": [
    {
     "data": {
      "text/plain": [
       "array([[0.28195721, 0.78903445],\n",
       "       [0.51407183, 0.09611987]])"
      ]
     },
     "execution_count": 16,
     "metadata": {},
     "output_type": "execute_result"
    }
   ],
   "source": [
    "# Generate random float values arrays\n",
    "np.random.rand(2,2)"
   ]
  },
  {
   "cell_type": "code",
   "execution_count": 17,
   "id": "f6746cfd-3bde-473c-b6d5-3f1ade5d9275",
   "metadata": {},
   "outputs": [
    {
     "data": {
      "text/plain": [
       "array([[0, 4],\n",
       "       [3, 5]])"
      ]
     },
     "execution_count": 17,
     "metadata": {},
     "output_type": "execute_result"
    }
   ],
   "source": [
    "# Generate random int values arrays \n",
    "np.random.randint(7, size=(2,2))"
   ]
  },
  {
   "cell_type": "code",
   "execution_count": 18,
   "id": "79af0a7f-d885-45d3-984e-1eac0c3df5a8",
   "metadata": {},
   "outputs": [
    {
     "data": {
      "text/plain": [
       "array([[1., 0., 0., 0., 0.],\n",
       "       [0., 1., 0., 0., 0.],\n",
       "       [0., 0., 1., 0., 0.],\n",
       "       [0., 0., 0., 1., 0.],\n",
       "       [0., 0., 0., 0., 1.]])"
      ]
     },
     "execution_count": 18,
     "metadata": {},
     "output_type": "execute_result"
    }
   ],
   "source": [
    "# Generate identity matrixes\n",
    "np.identity(5)"
   ]
  },
  {
   "cell_type": "code",
   "execution_count": 19,
   "id": "842b9236-0e6e-4b18-ba63-76247f29213c",
   "metadata": {},
   "outputs": [
    {
     "data": {
      "text/plain": [
       "array([[ 2,  1, 11],\n",
       "       [ 1, 11, 11],\n",
       "       [ 1,  2,  1]])"
      ]
     },
     "execution_count": 19,
     "metadata": {},
     "output_type": "execute_result"
    }
   ],
   "source": [
    "# Pics up elements from a list to generate array\n",
    "np.random.choice([1,2,11], size=(3,3))"
   ]
  },
  {
   "cell_type": "markdown",
   "id": "f9da887c-16e2-4df9-ad39-d76a57235000",
   "metadata": {},
   "source": [
    "## Transformations and Mathematical operations"
   ]
  },
  {
   "cell_type": "code",
   "execution_count": 20,
   "id": "db72f0de-e9a0-4025-9fcd-c69bc5b201b0",
   "metadata": {},
   "outputs": [
    {
     "data": {
      "text/plain": [
       "array([[  2, 198],\n",
       "       [  6, 198]], dtype=int16)"
      ]
     },
     "execution_count": 20,
     "metadata": {},
     "output_type": "execute_result"
    }
   ],
   "source": [
    "a * 2"
   ]
  },
  {
   "cell_type": "code",
   "execution_count": 21,
   "id": "382cf384-06e2-4007-872a-f74018f100cd",
   "metadata": {},
   "outputs": [
    {
     "data": {
      "text/plain": [
       "array([[ 0.5, 49.5],\n",
       "       [ 1.5, 49.5]])"
      ]
     },
     "execution_count": 21,
     "metadata": {},
     "output_type": "execute_result"
    }
   ],
   "source": [
    "a / 2"
   ]
  },
  {
   "cell_type": "code",
   "execution_count": 22,
   "id": "d7090f5f-e1b9-4acd-bf44-a5d4353912ac",
   "metadata": {},
   "outputs": [
    {
     "data": {
      "text/plain": [
       "array([[   1, 9801],\n",
       "       [   9, 9801]], dtype=int16)"
      ]
     },
     "execution_count": 22,
     "metadata": {},
     "output_type": "execute_result"
    }
   ],
   "source": [
    "a ** 2"
   ]
  },
  {
   "cell_type": "code",
   "execution_count": 23,
   "id": "6889efb7-deb5-46fd-951c-ecebd23590a0",
   "metadata": {},
   "outputs": [
    {
     "data": {
      "text/plain": [
       "array([[  6, 104],\n",
       "       [  8, 104]], dtype=int16)"
      ]
     },
     "execution_count": 23,
     "metadata": {},
     "output_type": "execute_result"
    }
   ],
   "source": [
    "a + 5"
   ]
  },
  {
   "cell_type": "code",
   "execution_count": 24,
   "id": "690f273b-2e2d-4932-82c3-de09c5840103",
   "metadata": {},
   "outputs": [
    {
     "data": {
      "text/plain": [
       "14"
      ]
     },
     "execution_count": 24,
     "metadata": {},
     "output_type": "execute_result"
    }
   ],
   "source": [
    "# DOT multiplication\n",
    "b1 = np.array([1,2,3], dtype=\"int\")\n",
    "b2 = np.array([1,2,3], dtype=\"int\")\n",
    "np.dot(b1,b2) # multiplies correspondent elements and do a summation\n",
    "b1 @ b2 # another syntax to do DOT multiplications"
   ]
  },
  {
   "cell_type": "code",
   "execution_count": 25,
   "id": "f0aa8729-bef7-49cf-b676-7417846ffba2",
   "metadata": {},
   "outputs": [
    {
     "data": {
      "text/plain": [
       "array([ 1, 99,  3, 99], dtype=int16)"
      ]
     },
     "execution_count": 25,
     "metadata": {},
     "output_type": "execute_result"
    }
   ],
   "source": [
    "# reshaping an array\n",
    "a.reshape((4))"
   ]
  },
  {
   "cell_type": "code",
   "execution_count": 26,
   "id": "fe2666bd-8e13-41e1-9460-1f8ec54b7334",
   "metadata": {},
   "outputs": [
    {
     "data": {
      "text/plain": [
       "array([[1, 2, 3],\n",
       "       [1, 2, 3],\n",
       "       [1, 2, 3]])"
      ]
     },
     "execution_count": 26,
     "metadata": {},
     "output_type": "execute_result"
    }
   ],
   "source": [
    "# repeat the content of an specific array\n",
    "b = np.array([[1,2,3]])\n",
    "np.repeat(b, 3, axis=0)"
   ]
  },
  {
   "cell_type": "code",
   "execution_count": 27,
   "id": "c3b69b21-da52-4e47-82b5-5f6fe0c8447f",
   "metadata": {},
   "outputs": [
    {
     "data": {
      "text/plain": [
       "array([[1, 2, 3],\n",
       "       [4, 5, 6]])"
      ]
     },
     "execution_count": 27,
     "metadata": {},
     "output_type": "execute_result"
    }
   ],
   "source": [
    "b = np.array([1,2,3])\n",
    "c = np.array([4,5,6])\n",
    "np.vstack([b,c])"
   ]
  },
  {
   "cell_type": "code",
   "execution_count": 28,
   "id": "dcab9f73-881e-48cc-ae2e-10d548e46f60",
   "metadata": {},
   "outputs": [
    {
     "data": {
      "text/plain": [
       "array([1, 2, 3, 4, 5, 6])"
      ]
     },
     "execution_count": 28,
     "metadata": {},
     "output_type": "execute_result"
    }
   ],
   "source": [
    "np.hstack([b,c])"
   ]
  },
  {
   "cell_type": "code",
   "execution_count": 29,
   "id": "596403a1-e4af-4cf4-a707-dfb6dc341915",
   "metadata": {},
   "outputs": [
    {
     "data": {
      "text/plain": [
       "array([1, 2, 3, 4])"
      ]
     },
     "execution_count": 29,
     "metadata": {},
     "output_type": "execute_result"
    }
   ],
   "source": [
    "# Array Flattening\n",
    "l1 = np.array([[1,2], [3,4]], dtype=\"int\")\n",
    "l1.flatten()"
   ]
  },
  {
   "cell_type": "code",
   "execution_count": 30,
   "id": "11e54aaa-b846-49a0-9916-87f6f6cd1e3a",
   "metadata": {},
   "outputs": [
    {
     "name": "stdout",
     "output_type": "stream",
     "text": [
      "[[1 2]\n",
      " [3 4]]\n",
      "[1 2 3 4]\n",
      "[[ 1  2]\n",
      " [ 3 99]]\n"
     ]
    }
   ],
   "source": [
    "# Array flattening but by reference == ravel (efficient!)\n",
    "print(l1)\n",
    "l2 = l1.ravel()\n",
    "print(l2)\n",
    "l2[3] = 99\n",
    "print(l1)"
   ]
  },
  {
   "cell_type": "code",
   "execution_count": 31,
   "id": "79eaa6d9-265d-4e55-9cd7-62873f2199d8",
   "metadata": {},
   "outputs": [
    {
     "name": "stdout",
     "output_type": "stream",
     "text": [
      "[[1 2 3 4 5 6 7 8 9]]\n",
      "[[1]\n",
      " [2]\n",
      " [3]\n",
      " [4]\n",
      " [5]\n",
      " [6]\n",
      " [7]\n",
      " [8]\n",
      " [9]]\n"
     ]
    }
   ],
   "source": [
    "# Adding new axis == adding new dimention\n",
    "l1 = np.arange(1,10)\n",
    "l2 = l1[np.newaxis, :]\n",
    "print(l2)\n",
    "l2 = l1[: , np.newaxis]\n",
    "print(l2)"
   ]
  },
  {
   "cell_type": "code",
   "execution_count": 32,
   "id": "d2545621-055c-461a-9ad9-4b51fa290b31",
   "metadata": {},
   "outputs": [
    {
     "data": {
      "text/plain": [
       "array([[1, 2],\n",
       "       [3, 4],\n",
       "       [5, 6]])"
      ]
     },
     "execution_count": 32,
     "metadata": {},
     "output_type": "execute_result"
    }
   ],
   "source": [
    "# Concatenating arrays\n",
    "l1 = np.array([[1,2], [3,4]], dtype=\"int\")\n",
    "l2 = np.array([[5,6]], dtype=\"int\")\n",
    "np.concatenate((l1,l2))"
   ]
  },
  {
   "cell_type": "code",
   "execution_count": 33,
   "id": "6a4ba31f-548e-48c1-9011-7296bfe94fce",
   "metadata": {},
   "outputs": [],
   "source": [
    "# Broadcasting"
   ]
  },
  {
   "cell_type": "markdown",
   "id": "d000f22f-4edd-4538-b44c-5ea049da2da5",
   "metadata": {},
   "source": [
    "Broadcasting is operations using arrays of different dimensionalities. All those basic arithmetic operations at the beginning of this section are broadcats `a1 * 2` or `a1 + 2`. Where all elements in a1 are impacted by the operation with a single element."
   ]
  },
  {
   "cell_type": "code",
   "execution_count": 34,
   "id": "934ae25e-0755-4e1e-947e-1526d2a1b9f0",
   "metadata": {},
   "outputs": [
    {
     "data": {
      "text/plain": [
       "array([[ 1,  4,  3],\n",
       "       [ 4, 10,  6],\n",
       "       [ 7, 16,  9]])"
      ]
     },
     "execution_count": 34,
     "metadata": {},
     "output_type": "execute_result"
    }
   ],
   "source": [
    "l1 = np.array([[1,2,3], [4,5,6], [7,8,9]], dtype=\"int\")\n",
    "l2 = np.array([[1,2,1]], dtype=\"int\")\n",
    "l1 * l2"
   ]
  },
  {
   "cell_type": "code",
   "execution_count": 35,
   "id": "0442274b-874e-49a3-8cd8-057317bf8c28",
   "metadata": {},
   "outputs": [
    {
     "data": {
      "text/plain": [
       "True"
      ]
     },
     "execution_count": 35,
     "metadata": {},
     "output_type": "execute_result"
    }
   ],
   "source": [
    "# Comparing two arrays\n",
    "l1 = np.array([1,2,3,4], dtype=\"int\")\n",
    "l2 = np.array([1,2,3,4], dtype=\"int\")\n",
    "np.allclose(l1,l2)"
   ]
  },
  {
   "cell_type": "markdown",
   "id": "244e1308-ed73-4ed8-a368-1598c1f04b48",
   "metadata": {},
   "source": [
    "## Statistics"
   ]
  },
  {
   "cell_type": "code",
   "execution_count": 36,
   "id": "eb843b24-78af-4613-a23d-61bee905c295",
   "metadata": {},
   "outputs": [
    {
     "data": {
      "text/plain": [
       "99"
      ]
     },
     "execution_count": 36,
     "metadata": {},
     "output_type": "execute_result"
    }
   ],
   "source": [
    "# or a.max() - returns max value inside Array\n",
    "np.max(a)"
   ]
  },
  {
   "cell_type": "code",
   "execution_count": 37,
   "id": "2a145fc0-d398-468f-abee-bd26e4e5200e",
   "metadata": {},
   "outputs": [
    {
     "data": {
      "text/plain": [
       "1"
      ]
     },
     "execution_count": 37,
     "metadata": {},
     "output_type": "execute_result"
    }
   ],
   "source": [
    "# or a.min() - returns min value inside Array\n",
    "np.min(a)"
   ]
  },
  {
   "cell_type": "code",
   "execution_count": 38,
   "id": "f0518e9e-f134-4ec9-8519-5e477deb4993",
   "metadata": {},
   "outputs": [
    {
     "data": {
      "text/plain": [
       "array([99, 99], dtype=int16)"
      ]
     },
     "execution_count": 38,
     "metadata": {},
     "output_type": "execute_result"
    }
   ],
   "source": [
    "# returns an array with max value of each internal Array\n",
    "np.max(a, axis=1)"
   ]
  },
  {
   "cell_type": "code",
   "execution_count": 39,
   "id": "e3cc3c10-11de-4e19-82e4-e3f6ba0fc44b",
   "metadata": {},
   "outputs": [
    {
     "data": {
      "text/plain": [
       "202"
      ]
     },
     "execution_count": 39,
     "metadata": {},
     "output_type": "execute_result"
    }
   ],
   "source": [
    "# returns a summation of all elements in an array\n",
    "np.sum(a)"
   ]
  },
  {
   "cell_type": "code",
   "execution_count": 40,
   "id": "29f27fce-c25f-4044-aa11-37d76b2bfd93",
   "metadata": {},
   "outputs": [
    {
     "data": {
      "text/plain": [
       "array([100, 102])"
      ]
     },
     "execution_count": 40,
     "metadata": {},
     "output_type": "execute_result"
    }
   ],
   "source": [
    "# returns summation of rows\n",
    "np.sum(a, axis=1)"
   ]
  },
  {
   "cell_type": "code",
   "execution_count": 41,
   "id": "9de0dad8-dafd-4476-9706-c23c5be88004",
   "metadata": {},
   "outputs": [
    {
     "data": {
      "text/plain": [
       "50.5"
      ]
     },
     "execution_count": 41,
     "metadata": {},
     "output_type": "execute_result"
    }
   ],
   "source": [
    "# returns average\n",
    "np.average(a)\n",
    "np.mean(a) # another way to do the same"
   ]
  },
  {
   "cell_type": "markdown",
   "id": "3e0c0231-205c-431b-930f-beec1e548810",
   "metadata": {},
   "source": [
    "## Linear Algebra"
   ]
  },
  {
   "cell_type": "code",
   "execution_count": 42,
   "id": "ca873c95-db34-4318-8b4a-a23435f485cf",
   "metadata": {},
   "outputs": [
    {
     "name": "stdout",
     "output_type": "stream",
     "text": [
      "[[4 1 3]\n",
      " [0 6 0]]\n",
      "[[4 0]\n",
      " [5 2]\n",
      " [4 4]]\n"
     ]
    },
    {
     "data": {
      "text/plain": [
       "array([[33, 14],\n",
       "       [30, 12]])"
      ]
     },
     "execution_count": 42,
     "metadata": {},
     "output_type": "execute_result"
    }
   ],
   "source": [
    "# Matrix multiplication\n",
    "a = np.random.randint(7, size=(2,3))\n",
    "b = np.random.randint(7, size=(3,2))\n",
    "print(a)\n",
    "print(b)\n",
    "np.matmul(a,b)"
   ]
  },
  {
   "cell_type": "code",
   "execution_count": 43,
   "id": "50c99a21-3ca2-4d8e-bd25-fea7fcf4e561",
   "metadata": {},
   "outputs": [
    {
     "data": {
      "text/plain": [
       "array([[1., 0., 0.],\n",
       "       [0., 1., 0.],\n",
       "       [0., 0., 1.]])"
      ]
     },
     "execution_count": 43,
     "metadata": {},
     "output_type": "execute_result"
    }
   ],
   "source": [
    "# Generating identity matrix\n",
    "np.identity(3)"
   ]
  },
  {
   "cell_type": "code",
   "execution_count": 44,
   "id": "74d16d39-e9bd-4f02-a915-854a217165b1",
   "metadata": {},
   "outputs": [
    {
     "data": {
      "text/plain": [
       "1.0"
      ]
     },
     "execution_count": 44,
     "metadata": {},
     "output_type": "execute_result"
    }
   ],
   "source": [
    "# Determinant of a identity matrix is 1\n",
    "c = np.identity(3)\n",
    "np.linalg.det(c)"
   ]
  },
  {
   "cell_type": "code",
   "execution_count": 45,
   "id": "08589606-9216-4b2e-8456-c5fd90413aed",
   "metadata": {},
   "outputs": [
    {
     "name": "stdout",
     "output_type": "stream",
     "text": [
      "[[1 4 6]\n",
      " [6 3 4]\n",
      " [2 2 5]]\n"
     ]
    },
    {
     "data": {
      "text/plain": [
       "array([[-0.15555556,  0.17777778,  0.04444444],\n",
       "       [ 0.48888889,  0.15555556, -0.71111111],\n",
       "       [-0.13333333, -0.13333333,  0.46666667]])"
      ]
     },
     "execution_count": 45,
     "metadata": {},
     "output_type": "execute_result"
    }
   ],
   "source": [
    "# inverted matrix (A * A**-1 == Determinant)\n",
    "c = np.random.randint(7, size=(3,3))\n",
    "print(c)\n",
    "np.linalg.inv(c)"
   ]
  },
  {
   "cell_type": "code",
   "execution_count": 46,
   "id": "ac5deab8-6393-40fd-84dc-0fea5b427ab2",
   "metadata": {},
   "outputs": [
    {
     "data": {
      "text/plain": [
       "array([[1, 3],\n",
       "       [2, 4]])"
      ]
     },
     "execution_count": 46,
     "metadata": {},
     "output_type": "execute_result"
    }
   ],
   "source": [
    "# Transposing a Matrix\n",
    "b = np.array([[1,2], [3,4]], dtype=\"int\")\n",
    "np.transpose(b)\n",
    "b.T # another syntax convention to transpose an Array"
   ]
  },
  {
   "cell_type": "code",
   "execution_count": 47,
   "id": "03aa4de5-04db-4a9a-9fd8-12f5af576d1b",
   "metadata": {},
   "outputs": [
    {
     "data": {
      "text/plain": [
       "-2.0000000000000004"
      ]
     },
     "execution_count": 47,
     "metadata": {},
     "output_type": "execute_result"
    }
   ],
   "source": [
    "# Determinant of a Matrix\n",
    "np.linalg.det(b)"
   ]
  },
  {
   "cell_type": "code",
   "execution_count": 48,
   "id": "56608f23-4e5a-4a33-ae9e-9eb13352e397",
   "metadata": {},
   "outputs": [
    {
     "data": {
      "text/plain": [
       "array([1, 4])"
      ]
     },
     "execution_count": 48,
     "metadata": {},
     "output_type": "execute_result"
    }
   ],
   "source": [
    "# main diagonal of a Matrix\n",
    "np.diag(b)"
   ]
  },
  {
   "cell_type": "markdown",
   "id": "998a7855-a5ee-4e29-b82c-40ea416400e7",
   "metadata": {},
   "source": [
    "## Linear Systems"
   ]
  },
  {
   "cell_type": "markdown",
   "id": "3431db32-5e72-429f-89f3-f4cd7121b9a9",
   "metadata": {},
   "source": [
    "```\n",
    "The admission fee at a small fair is $1.50 for children and $4.00 for adults. On a certain day, 2200 people enter the fair and $5050 is collected. How many children and how many adults attended?\n",
    "```"
   ]
  },
  {
   "cell_type": "code",
   "execution_count": 49,
   "id": "cf38e944-a26b-45ed-a47a-7f0e024abe4b",
   "metadata": {},
   "outputs": [
    {
     "name": "stdout",
     "output_type": "stream",
     "text": [
      "[1500.  700.]\n",
      "[1500.  700.]\n"
     ]
    }
   ],
   "source": [
    "A = np.array([[1.0,1.0], [1.5, 4.0]])\n",
    "b = np.array([2200, 5050])\n",
    "x = np.linalg.inv(A).dot(b)\n",
    "print(x)\n",
    "x = np.linalg.solve(A,b)\n",
    "print(x)"
   ]
  },
  {
   "cell_type": "markdown",
   "id": "e15673d3-ade9-429e-b632-0c970d19a95d",
   "metadata": {},
   "source": [
    "## File IO - Reading and Writing"
   ]
  },
  {
   "cell_type": "code",
   "execution_count": 50,
   "id": "d392f29a-74e5-402c-8d02-45273b0f9310",
   "metadata": {},
   "outputs": [
    {
     "data": {
      "text/plain": [
       "array([[ 1,  2,  3,  4,  5],\n",
       "       [ 6,  7,  8,  9, 10]])"
      ]
     },
     "execution_count": 50,
     "metadata": {},
     "output_type": "execute_result"
    }
   ],
   "source": [
    "# Reading data from file\n",
    "a = np.genfromtxt(\"data.txt\", delimiter=\",\", dtype=\"int\")\n",
    "a"
   ]
  },
  {
   "cell_type": "code",
   "execution_count": 51,
   "id": "a777f9af-d6a9-4a20-8002-595661adde8a",
   "metadata": {},
   "outputs": [
    {
     "data": {
      "text/plain": [
       "array([[ 1,  2,  3,  4, 99],\n",
       "       [ 6,  7,  8,  9, 99]])"
      ]
     },
     "execution_count": 51,
     "metadata": {},
     "output_type": "execute_result"
    }
   ],
   "source": [
    "a[: , -1] = (99, 99)\n",
    "a"
   ]
  },
  {
   "cell_type": "code",
   "execution_count": 52,
   "id": "2036dde1-837e-4cc4-adf3-a0e2c3d913b1",
   "metadata": {},
   "outputs": [],
   "source": [
    "# Writing array to file\n",
    "np.savetxt(\"data_002.txt\", a, fmt=\"%d\", delimiter=\",\")"
   ]
  },
  {
   "cell_type": "code",
   "execution_count": 53,
   "id": "705bc918-8bb4-4339-bd1c-f502ec557ca3",
   "metadata": {},
   "outputs": [
    {
     "data": {
      "text/plain": [
       "array([[ 1,  2,  3,  4, 99],\n",
       "       [ 6,  7,  8,  9, 99]])"
      ]
     },
     "execution_count": 53,
     "metadata": {},
     "output_type": "execute_result"
    }
   ],
   "source": [
    "b = np.genfromtxt(\"data_002.txt\", delimiter=\",\", dtype=\"int\")\n",
    "b"
   ]
  },
  {
   "cell_type": "markdown",
   "id": "1d08d60d-c833-4401-8155-fe188e7c0e2c",
   "metadata": {},
   "source": [
    "## Advanced Indexing"
   ]
  },
  {
   "cell_type": "code",
   "execution_count": 54,
   "id": "f49e8af2-f92d-4d4d-887e-31f10040fb3c",
   "metadata": {},
   "outputs": [
    {
     "data": {
      "text/plain": [
       "array([[False, False, False, False,  True],\n",
       "       [False, False, False, False,  True]])"
      ]
     },
     "execution_count": 54,
     "metadata": {},
     "output_type": "execute_result"
    }
   ],
   "source": [
    "# Where in b is greater than 50\n",
    "b > 50"
   ]
  },
  {
   "cell_type": "code",
   "execution_count": 55,
   "id": "e0f696d8-f9cf-4176-8506-5de3985b2292",
   "metadata": {},
   "outputs": [
    {
     "data": {
      "text/plain": [
       "array([99, 99])"
      ]
     },
     "execution_count": 55,
     "metadata": {},
     "output_type": "execute_result"
    }
   ],
   "source": [
    "# filter only values greater than 50\n",
    "b[b > 50]"
   ]
  },
  {
   "cell_type": "code",
   "execution_count": 56,
   "id": "aafb57c8-57af-4971-8f7b-f7d047caf24f",
   "metadata": {},
   "outputs": [
    {
     "data": {
      "text/plain": [
       "array([1, 5, 9])"
      ]
     },
     "execution_count": 56,
     "metadata": {},
     "output_type": "execute_result"
    }
   ],
   "source": [
    "# multiple indexes at once\n",
    "a = np.array([1,2,3,4,5,6,7,8,9])\n",
    "a[[0,4,8]]"
   ]
  },
  {
   "cell_type": "code",
   "execution_count": 57,
   "id": "d3d32c20-9b10-4f4e-9afc-dd5cf28fcf5b",
   "metadata": {},
   "outputs": [
    {
     "data": {
      "text/plain": [
       "array([False, False, False,  True,  True])"
      ]
     },
     "execution_count": 57,
     "metadata": {},
     "output_type": "execute_result"
    }
   ],
   "source": [
    "# columns containing at least one value greater than 8\n",
    "np.any(b > 8, axis=0)"
   ]
  },
  {
   "cell_type": "code",
   "execution_count": 58,
   "id": "c8756c33-bf9b-43e5-8abd-dccdf5c9456f",
   "metadata": {},
   "outputs": [
    {
     "data": {
      "text/plain": [
       "array([False, False, False, False,  True])"
      ]
     },
     "execution_count": 58,
     "metadata": {},
     "output_type": "execute_result"
    }
   ],
   "source": [
    "# columns containing all elements greater than 8\n",
    "np.all(b > 8, axis=0)"
   ]
  },
  {
   "cell_type": "code",
   "execution_count": 59,
   "id": "f07f5c5c-29eb-400c-9f82-1050779c86d1",
   "metadata": {},
   "outputs": [
    {
     "data": {
      "text/plain": [
       "array([[False, False, False,  True, False],\n",
       "       [ True,  True, False, False, False]])"
      ]
     },
     "execution_count": 59,
     "metadata": {},
     "output_type": "execute_result"
    }
   ],
   "source": [
    "# bolean logic and multiple conditions\n",
    "((b > 3) & (b <8))"
   ]
  },
  {
   "cell_type": "code",
   "execution_count": 60,
   "id": "ec843b83-1b48-44f3-a6bc-b7c8d447082c",
   "metadata": {},
   "outputs": [
    {
     "data": {
      "text/plain": [
       "array([[ 1,  2,  3,  4,  5],\n",
       "       [ 6,  7,  8,  9, 10],\n",
       "       [11, 12, 13, 14, 15],\n",
       "       [16, 17, 18, 19, 20],\n",
       "       [21, 22, 23, 24, 25],\n",
       "       [26, 27, 28, 29, 30]])"
      ]
     },
     "execution_count": 60,
     "metadata": {},
     "output_type": "execute_result"
    }
   ],
   "source": [
    "example = np.arange(1,31).reshape(6,5)\n",
    "example"
   ]
  },
  {
   "cell_type": "code",
   "execution_count": 61,
   "id": "bb92f1fa-91a8-4662-a22d-bbdce2883e73",
   "metadata": {},
   "outputs": [
    {
     "data": {
      "text/plain": [
       "array([[11, 12],\n",
       "       [16, 17]])"
      ]
     },
     "execution_count": 61,
     "metadata": {},
     "output_type": "execute_result"
    }
   ],
   "source": [
    "example[2:4, 0:2]"
   ]
  },
  {
   "cell_type": "code",
   "execution_count": 62,
   "id": "46ef0f2e-42a0-4c44-95f3-25eb35ae04b0",
   "metadata": {},
   "outputs": [
    {
     "data": {
      "text/plain": [
       "array([ 2,  8, 14, 20])"
      ]
     },
     "execution_count": 62,
     "metadata": {},
     "output_type": "execute_result"
    }
   ],
   "source": [
    "a = example[0:-2, 1:]\n",
    "a[np.identity(4) == 1]"
   ]
  },
  {
   "cell_type": "code",
   "execution_count": 63,
   "id": "77196d77-535e-4b4f-b002-3321e0ee2b99",
   "metadata": {},
   "outputs": [
    {
     "data": {
      "text/plain": [
       "array([ 2,  8, 14, 20])"
      ]
     },
     "execution_count": 63,
     "metadata": {},
     "output_type": "execute_result"
    }
   ],
   "source": [
    "example[[0,1,2,3],[1,2,3,4]] "
   ]
  },
  {
   "cell_type": "code",
   "execution_count": 64,
   "id": "1415aecb-62b6-4d95-a831-91c35f21dca7",
   "metadata": {},
   "outputs": [
    {
     "data": {
      "text/plain": [
       "array([[ 4,  5],\n",
       "       [24, 25],\n",
       "       [29, 30]])"
      ]
     },
     "execution_count": 64,
     "metadata": {},
     "output_type": "execute_result"
    }
   ],
   "source": [
    "example[[0, 4, 5],3:]"
   ]
  },
  {
   "cell_type": "markdown",
   "id": "9f5c4c0d-ac9f-4e58-9827-56561b8a029c",
   "metadata": {},
   "source": [
    "## References"
   ]
  },
  {
   "cell_type": "markdown",
   "id": "a960412f-5d7e-4511-a1ce-3692d134ae5f",
   "metadata": {},
   "source": [
    " * https://docs.scipy.org/doc/scipy/reference/linalg.html\n",
    " * https://numpy.org/doc/stable/index.html\n",
    " * https://numpy.org/doc/stable/reference/arrays.dtypes.html\n",
    " * https://www.youtube.com/watch?v=9JUAPgtkKpI **\n",
    " * https://www.youtube.com/watch?v=QUT1VHiLmmI *****\n",
    " * https://www.youtube.com/watch?v=ZB7BZMhfPgk *****"
   ]
  }
 ],
 "metadata": {
  "kernelspec": {
   "display_name": "Python 3 (ipykernel)",
   "language": "python",
   "name": "python3"
  },
  "language_info": {
   "codemirror_mode": {
    "name": "ipython",
    "version": 3
   },
   "file_extension": ".py",
   "mimetype": "text/x-python",
   "name": "python",
   "nbconvert_exporter": "python",
   "pygments_lexer": "ipython3",
   "version": "3.8.3"
  }
 },
 "nbformat": 4,
 "nbformat_minor": 5
}
