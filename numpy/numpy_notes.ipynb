{
 "cells": [
  {
   "cell_type": "markdown",
   "id": "267f8268-ee73-4c3d-a401-b7112f314588",
   "metadata": {},
   "source": [
    "### Importing library and basic array"
   ]
  },
  {
   "cell_type": "code",
   "execution_count": 12,
   "id": "e1e1befb-bfe8-4653-8782-c0329ccb2c77",
   "metadata": {},
   "outputs": [
    {
     "name": "stdout",
     "output_type": "stream",
     "text": [
      "[[1 2]\n",
      " [3 4]]\n"
     ]
    }
   ],
   "source": [
    "import numpy as np\n",
    "\n",
    "a = np.array([[1,2],[3,4]], dtype=\"int16\")\n",
    "print(a)"
   ]
  },
  {
   "cell_type": "markdown",
   "id": "40132896-b6c4-488a-846e-fd6894d8eaed",
   "metadata": {},
   "source": [
    "### Printing characteristcs of an Array"
   ]
  },
  {
   "cell_type": "code",
   "execution_count": 7,
   "id": "29181518-59cb-412d-af0e-bf0c0f28d75a",
   "metadata": {},
   "outputs": [
    {
     "data": {
      "text/plain": [
       "2"
      ]
     },
     "execution_count": 7,
     "metadata": {},
     "output_type": "execute_result"
    }
   ],
   "source": [
    "a.ndim  # number of dimentions"
   ]
  },
  {
   "cell_type": "code",
   "execution_count": 8,
   "id": "53cfd239-c683-474e-aee2-c1b2c143224e",
   "metadata": {},
   "outputs": [
    {
     "data": {
      "text/plain": [
       "(2, 2)"
      ]
     },
     "execution_count": 8,
     "metadata": {},
     "output_type": "execute_result"
    }
   ],
   "source": [
    "a.shape # shape of the array - this is a tuple with dimention's size"
   ]
  },
  {
   "cell_type": "code",
   "execution_count": 9,
   "id": "9ea2c73a-1d6a-4674-88bb-474fc805228c",
   "metadata": {},
   "outputs": [
    {
     "data": {
      "text/plain": [
       "dtype('int8')"
      ]
     },
     "execution_count": 9,
     "metadata": {},
     "output_type": "execute_result"
    }
   ],
   "source": [
    "a.dtype # basic data type"
   ]
  },
  {
   "cell_type": "code",
   "execution_count": 14,
   "id": "beeeb8fa-fb23-4043-ada7-0862ba1d0a36",
   "metadata": {},
   "outputs": [
    {
     "data": {
      "text/plain": [
       "4"
      ]
     },
     "execution_count": 14,
     "metadata": {},
     "output_type": "execute_result"
    }
   ],
   "source": [
    "a.size # number of elements in the array"
   ]
  },
  {
   "cell_type": "code",
   "execution_count": 13,
   "id": "5bdd43f7-8f25-4ff7-b041-24286d8b8eb6",
   "metadata": {},
   "outputs": [
    {
     "data": {
      "text/plain": [
       "8"
      ]
     },
     "execution_count": 13,
     "metadata": {},
     "output_type": "execute_result"
    }
   ],
   "source": [
    "a.nbytes # number of bytes used in the array"
   ]
  },
  {
   "cell_type": "code",
   "execution_count": 16,
   "id": "ef7860fc-e688-4689-99d9-9b0871110128",
   "metadata": {},
   "outputs": [
    {
     "data": {
      "text/plain": [
       "2"
      ]
     },
     "execution_count": 16,
     "metadata": {},
     "output_type": "execute_result"
    }
   ],
   "source": [
    "a.itemsize # number of bytes of data type"
   ]
  },
  {
   "cell_type": "markdown",
   "id": "3a82bcfe-36fd-4185-a807-7d3c1b32ab53",
   "metadata": {},
   "source": [
    "### Accessing and updating elements in array"
   ]
  },
  {
   "cell_type": "code",
   "execution_count": 17,
   "id": "5ca945ee-ed2e-482f-8e81-f7699ae946d1",
   "metadata": {},
   "outputs": [
    {
     "data": {
      "text/plain": [
       "4"
      ]
     },
     "execution_count": 17,
     "metadata": {},
     "output_type": "execute_result"
    }
   ],
   "source": [
    "a[1,1] # accessing one specific element"
   ]
  },
  {
   "cell_type": "code",
   "execution_count": 20,
   "id": "2c11ed84-6b5b-4b37-8471-64f6ed8c4698",
   "metadata": {},
   "outputs": [
    {
     "data": {
      "text/plain": [
       "array([1, 2], dtype=int16)"
      ]
     },
     "execution_count": 20,
     "metadata": {},
     "output_type": "execute_result"
    }
   ],
   "source": [
    "a[0, :] # accessing first row"
   ]
  },
  {
   "cell_type": "code",
   "execution_count": 21,
   "id": "706994d4-cec6-40a8-bf58-d9a958e8ac00",
   "metadata": {},
   "outputs": [
    {
     "data": {
      "text/plain": [
       "array([1, 3], dtype=int16)"
      ]
     },
     "execution_count": 21,
     "metadata": {},
     "output_type": "execute_result"
    }
   ],
   "source": [
    "a[: , 0] # Fetching first column"
   ]
  },
  {
   "cell_type": "code",
   "execution_count": 26,
   "id": "481a57f9-6f2c-4c2b-849f-5be6b0a8958e",
   "metadata": {},
   "outputs": [
    {
     "name": "stdout",
     "output_type": "stream",
     "text": [
      "[[ 1 99]\n",
      " [ 3 99]]\n"
     ]
    }
   ],
   "source": [
    "a[: , 1] = (99, 99) # Updating a specific column\n",
    "print(a)"
   ]
  },
  {
   "cell_type": "markdown",
   "id": "3915dea9-2019-41e5-b5ba-7c4165c16051",
   "metadata": {},
   "source": [
    "### Generating specific matrixes"
   ]
  },
  {
   "cell_type": "code",
   "execution_count": 31,
   "id": "37b99a8b-41e3-4128-ac9f-560891c2cdc8",
   "metadata": {},
   "outputs": [
    {
     "data": {
      "text/plain": [
       "array([[1, 1, 1],\n",
       "       [1, 1, 1],\n",
       "       [1, 1, 1]], dtype=int8)"
      ]
     },
     "execution_count": 31,
     "metadata": {},
     "output_type": "execute_result"
    }
   ],
   "source": [
    "np.ones((3, 3), dtype=\"int8\") # creates arrays of 1s"
   ]
  },
  {
   "cell_type": "code",
   "execution_count": 32,
   "id": "2eec2554-5a17-4b23-88f3-7d46dbb5652d",
   "metadata": {},
   "outputs": [
    {
     "data": {
      "text/plain": [
       "array([[0, 0, 0],\n",
       "       [0, 0, 0],\n",
       "       [0, 0, 0]], dtype=int8)"
      ]
     },
     "execution_count": 32,
     "metadata": {},
     "output_type": "execute_result"
    }
   ],
   "source": [
    "np.zeros((3,3), dtype=\"int8\") # creates arrays of 0s"
   ]
  },
  {
   "cell_type": "code",
   "execution_count": 34,
   "id": "4d95c837-e2fc-4d55-b9c5-e2234896f1ec",
   "metadata": {},
   "outputs": [
    {
     "data": {
      "text/plain": [
       "array([[99, 99],\n",
       "       [99, 99]])"
      ]
     },
     "execution_count": 34,
     "metadata": {},
     "output_type": "execute_result"
    }
   ],
   "source": [
    "np.full((2,2), 99) # creates arrays fileld with specific value"
   ]
  },
  {
   "cell_type": "code",
   "execution_count": 40,
   "id": "75daf86f-d0fe-4181-bada-4cb4b114b093",
   "metadata": {},
   "outputs": [
    {
     "data": {
      "text/plain": [
       "array([[0.04652306, 0.46851432],\n",
       "       [0.081302  , 0.39715904]])"
      ]
     },
     "execution_count": 40,
     "metadata": {},
     "output_type": "execute_result"
    }
   ],
   "source": [
    "np.random.rand(2,2) # Generate random float values arrays"
   ]
  },
  {
   "cell_type": "code",
   "execution_count": 41,
   "id": "f6746cfd-3bde-473c-b6d5-3f1ade5d9275",
   "metadata": {},
   "outputs": [
    {
     "data": {
      "text/plain": [
       "array([[1, 6],\n",
       "       [6, 2]])"
      ]
     },
     "execution_count": 41,
     "metadata": {},
     "output_type": "execute_result"
    }
   ],
   "source": [
    "np.random.randint(7, size=(2,2)) # Generate random int values arrays "
   ]
  },
  {
   "cell_type": "code",
   "execution_count": 43,
   "id": "79af0a7f-d885-45d3-984e-1eac0c3df5a8",
   "metadata": {},
   "outputs": [
    {
     "data": {
      "text/plain": [
       "array([[1., 0., 0., 0., 0.],\n",
       "       [0., 1., 0., 0., 0.],\n",
       "       [0., 0., 1., 0., 0.],\n",
       "       [0., 0., 0., 1., 0.],\n",
       "       [0., 0., 0., 0., 1.]])"
      ]
     },
     "execution_count": 43,
     "metadata": {},
     "output_type": "execute_result"
    }
   ],
   "source": [
    "np.identity(5) # Generate identity matrixes"
   ]
  },
  {
   "cell_type": "markdown",
   "id": "f9da887c-16e2-4df9-ad39-d76a57235000",
   "metadata": {},
   "source": [
    "### Transformations and Mathematical operations"
   ]
  },
  {
   "cell_type": "code",
   "execution_count": 45,
   "id": "db72f0de-e9a0-4025-9fcd-c69bc5b201b0",
   "metadata": {},
   "outputs": [
    {
     "data": {
      "text/plain": [
       "array([[2, 4],\n",
       "       [6, 8]], dtype=int16)"
      ]
     },
     "execution_count": 45,
     "metadata": {},
     "output_type": "execute_result"
    }
   ],
   "source": [
    "a * 2"
   ]
  },
  {
   "cell_type": "code",
   "execution_count": 46,
   "id": "382cf384-06e2-4007-872a-f74018f100cd",
   "metadata": {},
   "outputs": [
    {
     "data": {
      "text/plain": [
       "array([[0.5, 1. ],\n",
       "       [1.5, 2. ]])"
      ]
     },
     "execution_count": 46,
     "metadata": {},
     "output_type": "execute_result"
    }
   ],
   "source": [
    "a / 2"
   ]
  },
  {
   "cell_type": "code",
   "execution_count": 47,
   "id": "d7090f5f-e1b9-4acd-bf44-a5d4353912ac",
   "metadata": {},
   "outputs": [
    {
     "data": {
      "text/plain": [
       "array([[ 1,  4],\n",
       "       [ 9, 16]], dtype=int16)"
      ]
     },
     "execution_count": 47,
     "metadata": {},
     "output_type": "execute_result"
    }
   ],
   "source": [
    "a ** 2"
   ]
  },
  {
   "cell_type": "code",
   "execution_count": 51,
   "id": "6889efb7-deb5-46fd-951c-ecebd23590a0",
   "metadata": {},
   "outputs": [
    {
     "data": {
      "text/plain": [
       "array([[6, 7],\n",
       "       [8, 9]], dtype=int16)"
      ]
     },
     "execution_count": 51,
     "metadata": {},
     "output_type": "execute_result"
    }
   ],
   "source": [
    "a + 5"
   ]
  },
  {
   "cell_type": "code",
   "execution_count": 50,
   "id": "f0aa8729-bef7-49cf-b676-7417846ffba2",
   "metadata": {},
   "outputs": [
    {
     "data": {
      "text/plain": [
       "array([1, 2, 3, 4], dtype=int16)"
      ]
     },
     "execution_count": 50,
     "metadata": {},
     "output_type": "execute_result"
    }
   ],
   "source": [
    "a.reshape((4)) # reshaping an array"
   ]
  },
  {
   "cell_type": "code",
   "execution_count": 60,
   "id": "fe2666bd-8e13-41e1-9460-1f8ec54b7334",
   "metadata": {},
   "outputs": [
    {
     "data": {
      "text/plain": [
       "array([[1, 2, 3],\n",
       "       [1, 2, 3],\n",
       "       [1, 2, 3]])"
      ]
     },
     "execution_count": 60,
     "metadata": {},
     "output_type": "execute_result"
    }
   ],
   "source": [
    "b = np.array([[1,2,3]])\n",
    "np.repeat(b, 3, axis=0) # repeat the content of an specific array"
   ]
  },
  {
   "cell_type": "code",
   "execution_count": 68,
   "id": "c3b69b21-da52-4e47-82b5-5f6fe0c8447f",
   "metadata": {},
   "outputs": [
    {
     "data": {
      "text/plain": [
       "array([[1, 2, 3],\n",
       "       [4, 5, 6]])"
      ]
     },
     "execution_count": 68,
     "metadata": {},
     "output_type": "execute_result"
    }
   ],
   "source": [
    "b = np.array([1,2,3])\n",
    "c = np.array([4,5,6])\n",
    "np.vstack([b,c])"
   ]
  },
  {
   "cell_type": "code",
   "execution_count": 69,
   "id": "dcab9f73-881e-48cc-ae2e-10d548e46f60",
   "metadata": {},
   "outputs": [
    {
     "data": {
      "text/plain": [
       "array([1, 2, 3, 4, 5, 6])"
      ]
     },
     "execution_count": 69,
     "metadata": {},
     "output_type": "execute_result"
    }
   ],
   "source": [
    "np.hstack([b,c])"
   ]
  },
  {
   "cell_type": "code",
   "execution_count": null,
   "id": "66731a51-36c1-400c-88aa-d83825eeb44f",
   "metadata": {},
   "outputs": [],
   "source": []
  }
 ],
 "metadata": {
  "kernelspec": {
   "display_name": "Python 3 (ipykernel)",
   "language": "python",
   "name": "python3"
  },
  "language_info": {
   "codemirror_mode": {
    "name": "ipython",
    "version": 3
   },
   "file_extension": ".py",
   "mimetype": "text/x-python",
   "name": "python",
   "nbconvert_exporter": "python",
   "pygments_lexer": "ipython3",
   "version": "3.8.3"
  }
 },
 "nbformat": 4,
 "nbformat_minor": 5
}
