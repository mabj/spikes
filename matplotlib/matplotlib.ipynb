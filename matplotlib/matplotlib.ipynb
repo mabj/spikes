{
 "cells": [
  {
   "cell_type": "markdown",
   "id": "67677477-0886-4635-9b0a-001285a489f7",
   "metadata": {},
   "source": [
    "## Load Library"
   ]
  },
  {
   "cell_type": "code",
   "execution_count": 1,
   "id": "3978742e-a2ae-4cc9-aed5-1bdac6ddb748",
   "metadata": {},
   "outputs": [],
   "source": [
    "# importing matplotlib module \n",
    "from matplotlib import pyplot as plt\n",
    "%matplotlib inline"
   ]
  },
  {
   "cell_type": "markdown",
   "id": "79960e24-1cb2-4a62-877e-097050324b14",
   "metadata": {},
   "source": [
    "## Setup a line chart"
   ]
  },
  {
   "cell_type": "code",
   "execution_count": null,
   "id": "f57f4407-0901-45f4-a9d7-af9253244d7d",
   "metadata": {},
   "outputs": [],
   "source": []
  },
  {
   "cell_type": "markdown",
   "id": "6938f5f1-d234-4c14-8c6a-ef4713cfdec1",
   "metadata": {},
   "source": [
    "## Setup a bar chart"
   ]
  },
  {
   "cell_type": "code",
   "execution_count": null,
   "id": "62656c8c-9f30-4fe5-82fb-cc83119172cb",
   "metadata": {},
   "outputs": [],
   "source": []
  },
  {
   "cell_type": "markdown",
   "id": "52eca75d-7745-4f80-a359-7f5af1e479bd",
   "metadata": {},
   "source": [
    "## Setup a stack chart"
   ]
  },
  {
   "cell_type": "code",
   "execution_count": null,
   "id": "8a4092ad-25eb-40eb-8812-296c5b8fe99f",
   "metadata": {},
   "outputs": [],
   "source": []
  },
  {
   "cell_type": "markdown",
   "id": "9e3bd2d9-b6ef-496b-8fe8-7aef9a93b4a7",
   "metadata": {},
   "source": [
    "## Setup a pie chart"
   ]
  },
  {
   "cell_type": "code",
   "execution_count": null,
   "id": "7c67552b-18a3-4be0-af6f-0f0c256f2f3d",
   "metadata": {},
   "outputs": [],
   "source": []
  }
 ],
 "metadata": {
  "kernelspec": {
   "display_name": "Python 3 (ipykernel)",
   "language": "python",
   "name": "python3"
  },
  "language_info": {
   "codemirror_mode": {
    "name": "ipython",
    "version": 3
   },
   "file_extension": ".py",
   "mimetype": "text/x-python",
   "name": "python",
   "nbconvert_exporter": "python",
   "pygments_lexer": "ipython3",
   "version": "3.8.3"
  }
 },
 "nbformat": 4,
 "nbformat_minor": 5
}
