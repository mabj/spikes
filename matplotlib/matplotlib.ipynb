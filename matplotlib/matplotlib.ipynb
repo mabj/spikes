{
 "cells": [
  {
   "cell_type": "markdown",
   "id": "67677477-0886-4635-9b0a-001285a489f7",
   "metadata": {},
   "source": [
    "## Load library"
   ]
  },
  {
   "cell_type": "code",
   "execution_count": 5,
   "id": "3978742e-a2ae-4cc9-aed5-1bdac6ddb748",
   "metadata": {},
   "outputs": [],
   "source": [
    "# importing matplotlib module \n",
    "from matplotlib import pyplot as plt   "
   ]
  },
  {
   "cell_type": "markdown",
   "id": "79960e24-1cb2-4a62-877e-097050324b14",
   "metadata": {},
   "source": [
    "## Setup a line chart"
   ]
  },
  {
   "cell_type": "code",
   "execution_count": 2,
   "id": "4abc8e01-1ad1-4aac-8368-3f9a9b53d483",
   "metadata": {},
   "outputs": [
    {
     "data": {
      "image/png": "[encoded data removed]",
      "text/plain": [
       "<Figure size 432x288 with 1 Axes>"
      ]
     },
     "metadata": {
      "needs_background": "light"
     },
     "output_type": "display_data"
    }
   ],
   "source": []
  },
  {
   "cell_type": "code",
   "execution_count": null,
   "id": "e10f1698-d578-4633-a4af-78041c88dde8",
   "metadata": {},
   "outputs": [],
   "source": []
  }
 ],
 "metadata": {
  "kernelspec": {
   "display_name": "Python 3 (ipykernel)",
   "language": "python",
   "name": "python3"
  },
  "language_info": {
   "codemirror_mode": {
    "name": "ipython",
    "version": 3
   },
   "file_extension": ".py",
   "mimetype": "text/x-python",
   "name": "python",
   "nbconvert_exporter": "python",
   "pygments_lexer": "ipython3",
   "version": "3.8.3"
  }
 },
 "nbformat": 4,
 "nbformat_minor": 5
}
