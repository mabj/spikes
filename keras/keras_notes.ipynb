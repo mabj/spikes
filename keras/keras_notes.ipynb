{
 "cells": [
  {
   "cell_type": "markdown",
   "id": "4fb9211e-0088-43b6-bfea-afa8f4637f58",
   "metadata": {},
   "source": [
    "## Loading library"
   ]
  },
  {
   "cell_type": "markdown",
   "id": "61351b8c-ef95-4dd2-a3b0-c24ac01ef9a7",
   "metadata": {},
   "source": [
    "*Tensor Flow* library is a requirement to Keras. To install it do: `pip3 install tensorflow`."
   ]
  },
  {
   "cell_type": "code",
   "execution_count": 1,
   "id": "b868e0ba-7634-4a2f-9752-f4b38e12a249",
   "metadata": {},
   "outputs": [],
   "source": [
    "import tensorflow as tf\n",
    "from tensorflow import keras"
   ]
  },
  {
   "cell_type": "code",
   "execution_count": 2,
   "id": "4e4a966d-b1c6-40c8-a6ba-c01d23df47c4",
   "metadata": {},
   "outputs": [
    {
     "data": {
      "text/plain": [
       "'2.5.0'"
      ]
     },
     "execution_count": 2,
     "metadata": {},
     "output_type": "execute_result"
    }
   ],
   "source": [
    "keras.__version__"
   ]
  },
  {
   "cell_type": "markdown",
   "id": "500ba51c-1295-4122-b594-12b598a1e544",
   "metadata": {},
   "source": [
    "## Loading dataset using Pandas"
   ]
  },
  {
   "cell_type": "code",
   "execution_count": 3,
   "id": "352000c2-e399-4268-a8ba-84afd53a10ab",
   "metadata": {},
   "outputs": [],
   "source": [
    "import pandas as pd"
   ]
  },
  {
   "cell_type": "code",
   "execution_count": 4,
   "id": "7059b614-4f3f-4a70-b9f9-2afebc7bbfb0",
   "metadata": {},
   "outputs": [
    {
     "name": "stdout",
     "output_type": "stream",
     "text": [
      "(60000, 785)\n"
     ]
    },
    {
     "data": {
      "text/html": [
       "<div>\n",
       "<style scoped>\n",
       "    .dataframe tbody tr th:only-of-type {\n",
       "        vertical-align: middle;\n",
       "    }\n",
       "\n",
       "    .dataframe tbody tr th {\n",
       "        vertical-align: top;\n",
       "    }\n",
       "\n",
       "    .dataframe thead th {\n",
       "        text-align: right;\n",
       "    }\n",
       "</style>\n",
       "<table border=\"1\" class=\"dataframe\">\n",
       "  <thead>\n",
       "    <tr style=\"text-align: right;\">\n",
       "      <th></th>\n",
       "      <th>label</th>\n",
       "      <th>pixel1</th>\n",
       "      <th>pixel2</th>\n",
       "      <th>pixel3</th>\n",
       "      <th>pixel4</th>\n",
       "      <th>pixel5</th>\n",
       "      <th>pixel6</th>\n",
       "      <th>pixel7</th>\n",
       "      <th>pixel8</th>\n",
       "      <th>pixel9</th>\n",
       "      <th>...</th>\n",
       "      <th>pixel775</th>\n",
       "      <th>pixel776</th>\n",
       "      <th>pixel777</th>\n",
       "      <th>pixel778</th>\n",
       "      <th>pixel779</th>\n",
       "      <th>pixel780</th>\n",
       "      <th>pixel781</th>\n",
       "      <th>pixel782</th>\n",
       "      <th>pixel783</th>\n",
       "      <th>pixel784</th>\n",
       "    </tr>\n",
       "  </thead>\n",
       "  <tbody>\n",
       "    <tr>\n",
       "      <th>0</th>\n",
       "      <td>2</td>\n",
       "      <td>0</td>\n",
       "      <td>0</td>\n",
       "      <td>0</td>\n",
       "      <td>0</td>\n",
       "      <td>0</td>\n",
       "      <td>0</td>\n",
       "      <td>0</td>\n",
       "      <td>0</td>\n",
       "      <td>0</td>\n",
       "      <td>...</td>\n",
       "      <td>0</td>\n",
       "      <td>0</td>\n",
       "      <td>0</td>\n",
       "      <td>0</td>\n",
       "      <td>0</td>\n",
       "      <td>0</td>\n",
       "      <td>0</td>\n",
       "      <td>0</td>\n",
       "      <td>0</td>\n",
       "      <td>0</td>\n",
       "    </tr>\n",
       "    <tr>\n",
       "      <th>1</th>\n",
       "      <td>9</td>\n",
       "      <td>0</td>\n",
       "      <td>0</td>\n",
       "      <td>0</td>\n",
       "      <td>0</td>\n",
       "      <td>0</td>\n",
       "      <td>0</td>\n",
       "      <td>0</td>\n",
       "      <td>0</td>\n",
       "      <td>0</td>\n",
       "      <td>...</td>\n",
       "      <td>0</td>\n",
       "      <td>0</td>\n",
       "      <td>0</td>\n",
       "      <td>0</td>\n",
       "      <td>0</td>\n",
       "      <td>0</td>\n",
       "      <td>0</td>\n",
       "      <td>0</td>\n",
       "      <td>0</td>\n",
       "      <td>0</td>\n",
       "    </tr>\n",
       "    <tr>\n",
       "      <th>2</th>\n",
       "      <td>6</td>\n",
       "      <td>0</td>\n",
       "      <td>0</td>\n",
       "      <td>0</td>\n",
       "      <td>0</td>\n",
       "      <td>0</td>\n",
       "      <td>0</td>\n",
       "      <td>0</td>\n",
       "      <td>5</td>\n",
       "      <td>0</td>\n",
       "      <td>...</td>\n",
       "      <td>0</td>\n",
       "      <td>0</td>\n",
       "      <td>0</td>\n",
       "      <td>30</td>\n",
       "      <td>43</td>\n",
       "      <td>0</td>\n",
       "      <td>0</td>\n",
       "      <td>0</td>\n",
       "      <td>0</td>\n",
       "      <td>0</td>\n",
       "    </tr>\n",
       "    <tr>\n",
       "      <th>3</th>\n",
       "      <td>0</td>\n",
       "      <td>0</td>\n",
       "      <td>0</td>\n",
       "      <td>0</td>\n",
       "      <td>1</td>\n",
       "      <td>2</td>\n",
       "      <td>0</td>\n",
       "      <td>0</td>\n",
       "      <td>0</td>\n",
       "      <td>0</td>\n",
       "      <td>...</td>\n",
       "      <td>3</td>\n",
       "      <td>0</td>\n",
       "      <td>0</td>\n",
       "      <td>0</td>\n",
       "      <td>0</td>\n",
       "      <td>1</td>\n",
       "      <td>0</td>\n",
       "      <td>0</td>\n",
       "      <td>0</td>\n",
       "      <td>0</td>\n",
       "    </tr>\n",
       "    <tr>\n",
       "      <th>4</th>\n",
       "      <td>3</td>\n",
       "      <td>0</td>\n",
       "      <td>0</td>\n",
       "      <td>0</td>\n",
       "      <td>0</td>\n",
       "      <td>0</td>\n",
       "      <td>0</td>\n",
       "      <td>0</td>\n",
       "      <td>0</td>\n",
       "      <td>0</td>\n",
       "      <td>...</td>\n",
       "      <td>0</td>\n",
       "      <td>0</td>\n",
       "      <td>0</td>\n",
       "      <td>0</td>\n",
       "      <td>0</td>\n",
       "      <td>0</td>\n",
       "      <td>0</td>\n",
       "      <td>0</td>\n",
       "      <td>0</td>\n",
       "      <td>0</td>\n",
       "    </tr>\n",
       "  </tbody>\n",
       "</table>\n",
       "<p>5 rows × 785 columns</p>\n",
       "</div>"
      ],
      "text/plain": [
       "   label  pixel1  pixel2  pixel3  pixel4  pixel5  pixel6  pixel7  pixel8  \\\n",
       "0      2       0       0       0       0       0       0       0       0   \n",
       "1      9       0       0       0       0       0       0       0       0   \n",
       "2      6       0       0       0       0       0       0       0       5   \n",
       "3      0       0       0       0       1       2       0       0       0   \n",
       "4      3       0       0       0       0       0       0       0       0   \n",
       "\n",
       "   pixel9  ...  pixel775  pixel776  pixel777  pixel778  pixel779  pixel780  \\\n",
       "0       0  ...         0         0         0         0         0         0   \n",
       "1       0  ...         0         0         0         0         0         0   \n",
       "2       0  ...         0         0         0        30        43         0   \n",
       "3       0  ...         3         0         0         0         0         1   \n",
       "4       0  ...         0         0         0         0         0         0   \n",
       "\n",
       "   pixel781  pixel782  pixel783  pixel784  \n",
       "0         0         0         0         0  \n",
       "1         0         0         0         0  \n",
       "2         0         0         0         0  \n",
       "3         0         0         0         0  \n",
       "4         0         0         0         0  \n",
       "\n",
       "[5 rows x 785 columns]"
      ]
     },
     "execution_count": 4,
     "metadata": {},
     "output_type": "execute_result"
    }
   ],
   "source": [
    "data_train_file = 'data/fashion-mnist_train.csv.gz'\n",
    "data_test_file = 'data/fashion-mnist_test.csv.gz'\n",
    "\n",
    "# this method returns a pandas DataFrame object \"pandas.core.frame.DataFrame\"\n",
    "data_train = pd.read_csv(data_train_file)\n",
    "data_test = pd.read_csv(data_test_file)\n",
    "\n",
    "print(data_train.shape)\n",
    "data_train.head()"
   ]
  },
  {
   "cell_type": "markdown",
   "id": "be10b4c3-fa8c-4d04-9935-8c1cb4016323",
   "metadata": {},
   "source": [
    "## Treating data"
   ]
  },
  {
   "cell_type": "code",
   "execution_count": 5,
   "id": "b69eb427-e576-4f31-9c25-89596ae82e3a",
   "metadata": {},
   "outputs": [
    {
     "name": "stdout",
     "output_type": "stream",
     "text": [
      "Shape of trainning feature dataset: (60000, 784)\n",
      "Shape of trainning labels dataset: (60000,)\n"
     ]
    }
   ],
   "source": [
    "from sklearn.preprocessing import MinMaxScaler\n",
    "from sklearn.utils import shuffle\n",
    "\n",
    "# This function slices a panda data frame into two arrays. The first with labels and the other with\n",
    "# all samples and their features - one by line. \n",
    "def treat_raw_data_frame(data_frame):\n",
    "    # data is normalized to the max valua a pixel can take (255) - Gray Scale\n",
    "    # each sample is a 28x28 array serialized\n",
    "    features = data_frame.values[:, 1:]/255\n",
    "\n",
    "    # This normalization ([0-1]) can also be done by using sklearn\n",
    "    scaler = MinMaxScaler(feature_range=(0,1))\n",
    "    fatures = scaler.fit_transform(data_frame.values[:, 1:])\n",
    "    \n",
    "    labels = data_frame.label.values\n",
    "\n",
    "    # transforming labels to \"one-hot\" encoding\n",
    "    # if We use sparse_categorical_crossentropy we do not need to one-hot encoding our labels\n",
    "#    labels = tf.keras.utils.to_categorical(labels)\n",
    "    return shuffle(labels, features)\n",
    "\n",
    "train_labels, train_features = treat_raw_data_frame(data_train)\n",
    "test_labels, test_features = treat_raw_data_frame(data_test)\n",
    "\n",
    "print(\"Shape of trainning feature dataset: {}\".format(train_features.shape))\n",
    "print(\"Shape of trainning labels dataset: {}\".format(train_labels.shape))"
   ]
  },
  {
   "cell_type": "code",
   "execution_count": 6,
   "id": "53d02db3-ed88-41f9-9ff7-ee7bb5eaa1ff",
   "metadata": {},
   "outputs": [
    {
     "data": {
      "text/plain": [
       "array([0.        , 0.        , 0.        , 0.01568627, 0.        ,\n",
       "       0.0627451 , 0.76862745, 0.        , 0.        , 0.        ,\n",
       "       0.        , 0.        , 0.60392157, 0.49019608, 0.        ,\n",
       "       0.02352941, 0.        , 0.        , 0.        , 0.        ])"
      ]
     },
     "execution_count": 6,
     "metadata": {},
     "output_type": "execute_result"
    }
   ],
   "source": [
    "train_features[0, 90:110]"
   ]
  },
  {
   "cell_type": "markdown",
   "id": "ac264c85-cfca-407e-a1da-161b0f86eec2",
   "metadata": {},
   "source": [
    "## Visualizing samples using matplotlib"
   ]
  },
  {
   "cell_type": "code",
   "execution_count": 7,
   "id": "238a614d-2843-4eb3-bd2c-910d50cffde5",
   "metadata": {},
   "outputs": [
    {
     "data": {
      "image/png": "[encoded data removed]",
      "text/plain": [
       "<Figure size 432x288 with 1 Axes>"
      ]
     },
     "metadata": {
      "needs_background": "light"
     },
     "output_type": "display_data"
    },
    {
     "data": {
      "image/png": "[encoded data removed]",
      "text/plain": [
       "<Figure size 432x288 with 1 Axes>"
      ]
     },
     "metadata": {
      "needs_background": "light"
     },
     "output_type": "display_data"
    },
    {
     "data": {
      "image/png": "[encoded data removed]",
      "text/plain": [
       "<Figure size 432x288 with 1 Axes>"
      ]
     },
     "metadata": {
      "needs_background": "light"
     },
     "output_type": "display_data"
    }
   ],
   "source": [
    "import numpy as np\n",
    "import matplotlib.pyplot as plt\n",
    "%matplotlib inline\n",
    "\n",
    "# This functions plots a sample rechape array into a 28x28 2 dimensional array\n",
    "def plot(data_set, index):\n",
    "    plt.figure()\n",
    "    plt.imshow(np.reshape(data_set[index, :], (28,28)), \"gray\")\n",
    "\n",
    "\n",
    "_count = 0\n",
    "for i in range(len(train_labels)):\n",
    "    if train_labels[i] == 4:\n",
    "        plot(train_features, i)\n",
    "        _count += 1\n",
    "    if _count == 3:\n",
    "        break\n"
   ]
  },
  {
   "cell_type": "markdown",
   "id": "55e212b5-1e92-41d6-b8a0-5db009278a53",
   "metadata": {},
   "source": [
    "## Designing the Model"
   ]
  },
  {
   "cell_type": "code",
   "execution_count": 8,
   "id": "10096227-bb54-4aae-b1d4-7b1eaa84ab5d",
   "metadata": {},
   "outputs": [
    {
     "data": {
      "image/png": "[encoded data removed]",
      "text/plain": [
       "<IPython.core.display.Image object>"
      ]
     },
     "execution_count": 8,
     "metadata": {},
     "output_type": "execute_result"
    }
   ],
   "source": [
    "import os\n",
    "os.environ['TF_CPP_MIN_LOG_LEVEL'] = '2'\n",
    "\n",
    "# Define a sequential model. This defines the way Keras will generate a model. Keras has three different\n",
    "# type of models: sequential, functional and subclassing [3].\n",
    "model = tf.keras.Sequential()\n",
    "\n",
    "# Two hidden layers, activation function is rectified linear unit\n",
    "# all activation functions can be found at [4]. [5] to read more about about\n",
    "# Keras layers\n",
    "model.add(tf.keras.layers.Dense(30, activation=tf.nn.relu, input_shape=(784,))) # 1st hidden layer\n",
    "model.add(tf.keras.layers.Dense(20, activation=tf.nn.relu))                     # 2nd hidden layer\n",
    "\n",
    "# Output layer\n",
    "model.add(tf.keras.layers.Dense(10, activation=tf.nn.softmax))  # softmax gives probability to each class classes\n",
    "\n",
    "# Keras provides resource for plotting the Neural Network architecture and parameters.\n",
    "tf.keras.utils.plot_model(model, show_shapes=True)"
   ]
  },
  {
   "cell_type": "markdown",
   "id": "def058f6-5c91-4fb4-a1d7-4b3289edd1b4",
   "metadata": {},
   "source": [
    "## Trainning (fit), validating (validation_split param) and Testing (evaluate) the Model"
   ]
  },
  {
   "cell_type": "code",
   "execution_count": 9,
   "id": "92e4faf9-320e-45e3-9da7-b3c8ece63089",
   "metadata": {},
   "outputs": [
    {
     "name": "stdout",
     "output_type": "stream",
     "text": [
      "Model: \"sequential\"\n",
      "_________________________________________________________________\n",
      "Layer (type)                 Output Shape              Param #   \n",
      "=================================================================\n",
      "dense (Dense)                (None, 30)                23550     \n",
      "_________________________________________________________________\n",
      "dense_1 (Dense)              (None, 20)                620       \n",
      "_________________________________________________________________\n",
      "dense_2 (Dense)              (None, 10)                210       \n",
      "=================================================================\n",
      "Total params: 24,380\n",
      "Trainable params: 24,380\n",
      "Non-trainable params: 0\n",
      "_________________________________________________________________\n"
     ]
    }
   ],
   "source": [
    "# This specifies parameters for training the model and evaluate training progress\n",
    "# to learn more about optimizers [9]\n",
    "# model.compile(loss=\"categorical_crossentropy\", optimizer=\"rmsprop\", metrics=[\"accuracy\"])\n",
    "model.compile(loss=\"sparse_categorical_crossentropy\", optimizer=\"rmsprop\", metrics=[\"accuracy\"])\n",
    "\n",
    "# prints summary\n",
    "model.summary()"
   ]
  },
  {
   "cell_type": "code",
   "execution_count": 10,
   "id": "374f2454-14c4-465f-a646-5798d07e3664",
   "metadata": {},
   "outputs": [
    {
     "name": "stdout",
     "output_type": "stream",
     "text": [
      "Epoch 1/10\n",
      "422/422 [==============================] - 1s 2ms/step - loss: 0.7352 - accuracy: 0.7539 - val_loss: 0.4824 - val_accuracy: 0.8303\n",
      "Epoch 2/10\n",
      "422/422 [==============================] - 1s 2ms/step - loss: 0.4734 - accuracy: 0.8351 - val_loss: 0.4192 - val_accuracy: 0.8510\n",
      "Epoch 3/10\n",
      "422/422 [==============================] - 1s 2ms/step - loss: 0.4298 - accuracy: 0.8496 - val_loss: 0.4139 - val_accuracy: 0.8568\n",
      "Epoch 4/10\n",
      "422/422 [==============================] - 1s 2ms/step - loss: 0.4020 - accuracy: 0.8575 - val_loss: 0.3860 - val_accuracy: 0.8630\n",
      "Epoch 5/10\n",
      "422/422 [==============================] - 1s 2ms/step - loss: 0.3827 - accuracy: 0.8636 - val_loss: 0.3643 - val_accuracy: 0.8717\n",
      "Epoch 6/10\n",
      "422/422 [==============================] - 1s 2ms/step - loss: 0.3685 - accuracy: 0.8683 - val_loss: 0.3657 - val_accuracy: 0.8723\n",
      "Epoch 7/10\n",
      "422/422 [==============================] - 1s 2ms/step - loss: 0.3578 - accuracy: 0.8728 - val_loss: 0.3514 - val_accuracy: 0.8758\n",
      "Epoch 8/10\n",
      "422/422 [==============================] - 1s 2ms/step - loss: 0.3474 - accuracy: 0.8752 - val_loss: 0.3674 - val_accuracy: 0.8708\n",
      "Epoch 9/10\n",
      "422/422 [==============================] - 1s 2ms/step - loss: 0.3378 - accuracy: 0.8785 - val_loss: 0.3768 - val_accuracy: 0.8698\n",
      "Epoch 10/10\n",
      "422/422 [==============================] - 1s 2ms/step - loss: 0.3294 - accuracy: 0.8806 - val_loss: 0.3543 - val_accuracy: 0.8750\n"
     ]
    },
    {
     "data": {
      "text/plain": [
       "<tensorflow.python.keras.callbacks.History at 0x15ad6f040>"
      ]
     },
     "execution_count": 10,
     "metadata": {},
     "output_type": "execute_result"
    }
   ],
   "source": [
    "# Trainning model == fit function\n",
    "EPOCHS=10\n",
    "BATCH_SIZE=128\n",
    "\n",
    "# Using last 10% as validation set make sure data is suffled beforehand\n",
    "model.fit(train_features, train_labels, validation_split=0.1, epochs=EPOCHS, batch_size=BATCH_SIZE, verbose=1)"
   ]
  },
  {
   "cell_type": "code",
   "execution_count": 11,
   "id": "753274c2-dba4-4869-b284-9335634cad8f",
   "metadata": {},
   "outputs": [
    {
     "name": "stdout",
     "output_type": "stream",
     "text": [
      "313/313 [==============================] - 0s 1ms/step - loss: 0.3649 - accuracy: 0.8687\n"
     ]
    }
   ],
   "source": [
    "# Validating model\n",
    "test_loss, test_acc = model.evaluate(test_features, test_labels)"
   ]
  },
  {
   "cell_type": "code",
   "execution_count": 12,
   "id": "6e921aa0-1060-4164-b67d-26198abfa5da",
   "metadata": {},
   "outputs": [
    {
     "data": {
      "text/plain": [
       "(0.8687000274658203, 0.3648955523967743)"
      ]
     },
     "execution_count": 12,
     "metadata": {},
     "output_type": "execute_result"
    }
   ],
   "source": [
    "test_acc, test_loss"
   ]
  },
  {
   "cell_type": "markdown",
   "id": "885a3f91-115b-4b23-a489-5154f2e46725",
   "metadata": {},
   "source": [
    "## Confusion Matrix"
   ]
  },
  {
   "cell_type": "code",
   "execution_count": 13,
   "id": "bd246e7f-f5d1-4f97-be23-12279b48cb80",
   "metadata": {},
   "outputs": [],
   "source": [
    "# Helps to visualize mistakes in evaluating data.  \n",
    "from sklearn.metrics import confusion_matrix\n",
    "import itertools"
   ]
  },
  {
   "cell_type": "code",
   "execution_count": 14,
   "id": "223129e4-5532-4016-9a94-abd4193957de",
   "metadata": {},
   "outputs": [
    {
     "name": "stdout",
     "output_type": "stream",
     "text": [
      "[[823   1  21  50   1   4  90   0  10   0]\n",
      " [  1 975   3  16   1   1   3   0   0   0]\n",
      " [ 14   2 778  17 149   0  37   0   3   0]\n",
      " [ 21  11  12 908  31   2  14   0   1   0]\n",
      " [  1   2  50  27 900   0  17   0   3   0]\n",
      " [  0   0   0   0   0 915   0  45   8  32]\n",
      " [152   2  97  45 127   0 563   0  14   0]\n",
      " [  0   0   0   0   0  19   0 882   0  99]\n",
      " [  5   0   8   2   2   2   8   3 968   2]\n",
      " [  0   0   0   0   0   9   0  15   1 975]]\n"
     ]
    },
    {
     "data": {
      "image/png": "[encoded data removed]",
      "text/plain": [
       "<Figure size 432x288 with 2 Axes>"
      ]
     },
     "metadata": {
      "needs_background": "light"
     },
     "output_type": "display_data"
    }
   ],
   "source": [
    "# This function was C&P from [10]\n",
    "def plot_confusion_matrix(cm, classes,\n",
    "                        title='Confusion matrix',\n",
    "                        cmap=plt.cm.Blues):\n",
    "    \"\"\"\n",
    "    This function prints and plots the confusion matrix.\n",
    "    Normalization can be applied by setting `normalize=True`.\n",
    "    \"\"\"\n",
    "    plt.imshow(cm, interpolation='nearest', cmap=cmap)\n",
    "    plt.title(title)\n",
    "    plt.colorbar()\n",
    "    tick_marks = np.arange(len(classes))\n",
    "    plt.xticks(tick_marks, classes, rotation=45)\n",
    "    plt.yticks(tick_marks, classes)\n",
    "\n",
    "    thresh = cm.max() / 2.\n",
    "    for i, j in itertools.product(range(cm.shape[0]), range(cm.shape[1])):\n",
    "        plt.text(j, i, cm[i, j],\n",
    "            horizontalalignment=\"center\",\n",
    "            color=\"white\" if cm[i, j] > thresh else \"black\")\n",
    "\n",
    "    plt.tight_layout()\n",
    "    plt.ylabel('True label')\n",
    "    plt.xlabel('Predicted label')\n",
    "\n",
    "cm = confusion_matrix(y_true=test_labels, y_pred=model.predict(test_features, verbose=0).argmax(axis=-1))\n",
    "print(cm)\n",
    "\n",
    "cm_plot_labels = [\"tshirt\", \"long pants\", \"hoodie\", \"dress\", \"jacket\", \"sandal\", \"top\", \"tennis\", \"bag\", \"boot\"]\n",
    "plot_confusion_matrix(cm, classes=cm_plot_labels, title=\"Confusion Matrix\")"
   ]
  },
  {
   "cell_type": "markdown",
   "id": "e6eb834d-c36c-48b4-9a56-68fb37eb1c8c",
   "metadata": {},
   "source": [
    "## Feeding one sample to model and getting prediction/classification"
   ]
  },
  {
   "cell_type": "code",
   "execution_count": 15,
   "id": "82c34289-de8b-4fce-8fd0-17fb00cb4ab5",
   "metadata": {},
   "outputs": [],
   "source": [
    "# Fetching sample from testing dataset\n",
    "sample = test_features[21:22, :]"
   ]
  },
  {
   "cell_type": "code",
   "execution_count": 16,
   "id": "5a155ab9-50da-4dc0-9dbc-32fe29d842d4",
   "metadata": {},
   "outputs": [
    {
     "data": {
      "text/plain": [
       "array([1])"
      ]
     },
     "execution_count": 16,
     "metadata": {},
     "output_type": "execute_result"
    }
   ],
   "source": [
    "# Correct label for first sample in the testing dataset\n",
    "test_labels[21:22]"
   ]
  },
  {
   "cell_type": "code",
   "execution_count": 17,
   "id": "d6cdb1cd-3076-423d-8d37-109362f134d8",
   "metadata": {
    "tags": []
   },
   "outputs": [
    {
     "data": {
      "text/plain": [
       "array([[1.2560928e-07, 9.9995351e-01, 2.1577137e-07, 4.5364537e-05,\n",
       "        6.4507373e-07, 1.1377071e-10, 3.4065607e-08, 5.2412408e-15,\n",
       "        1.3256979e-09, 7.2263940e-12]], dtype=float32)"
      ]
     },
     "execution_count": 17,
     "metadata": {},
     "output_type": "execute_result"
    }
   ],
   "source": [
    "model.predict(sample)"
   ]
  },
  {
   "cell_type": "code",
   "execution_count": 18,
   "id": "330d4ce9-79e0-4b08-943a-db9c3add0a51",
   "metadata": {},
   "outputs": [
    {
     "data": {
      "text/plain": [
       "array([1])"
      ]
     },
     "execution_count": 18,
     "metadata": {},
     "output_type": "execute_result"
    }
   ],
   "source": [
    "# Returns the index of the max value in the \"one-hot\" array\n",
    "model.predict(sample).argmax(axis=-1)"
   ]
  },
  {
   "cell_type": "markdown",
   "id": "92cfde0c-2bff-4299-8b19-091dbfe79fa5",
   "metadata": {},
   "source": [
    "## <span style=\"color:red\">[!]</span>  Problematic #001 <span style=\"color:red\">[!]</span>"
   ]
  },
  {
   "cell_type": "code",
   "execution_count": 19,
   "id": "5c9e132a-66cc-4953-9267-c21665ea508b",
   "metadata": {},
   "outputs": [
    {
     "data": {
      "image/png": "[encoded data removed]",
      "text/plain": [
       "<Figure size 432x288 with 1 Axes>"
      ]
     },
     "metadata": {
      "needs_background": "light"
     },
     "output_type": "display_data"
    }
   ],
   "source": [
    "# Creating sample with random features\n",
    "fake_sample = np.random.rand(*test_features[0:1, :].shape)\n",
    "plt.figure()\n",
    "_ = plt.imshow(np.reshape(fake_sample, (28,28)), \"gray\")"
   ]
  },
  {
   "cell_type": "code",
   "execution_count": 20,
   "id": "32b0ce6b-46ad-4eb9-a689-bc7ddcb86296",
   "metadata": {},
   "outputs": [
    {
     "data": {
      "text/plain": [
       "array([[4.0036434e-04, 7.8990078e-11, 1.4138789e-04, 3.7660744e-08,\n",
       "        1.5083187e-07, 8.7345394e-14, 8.1060784e-07, 1.2364121e-16,\n",
       "        9.9945730e-01, 5.0792009e-10]], dtype=float32)"
      ]
     },
     "execution_count": 20,
     "metadata": {},
     "output_type": "execute_result"
    }
   ],
   "source": [
    "# Model try to fit random generated sample to some known category \n",
    "model.predict(fake_sample)"
   ]
  },
  {
   "cell_type": "code",
   "execution_count": 21,
   "id": "b0c5d912-88b6-4f4d-9951-22909273c730",
   "metadata": {},
   "outputs": [
    {
     "data": {
      "text/plain": [
       "8"
      ]
     },
     "execution_count": 21,
     "metadata": {},
     "output_type": "execute_result"
    }
   ],
   "source": [
    "model.predict(fake_sample).argmax()"
   ]
  },
  {
   "cell_type": "markdown",
   "id": "448c1ab9-be03-4700-ba38-60d1895ed408",
   "metadata": {},
   "source": [
    "## Saving/Loading model"
   ]
  },
  {
   "cell_type": "code",
   "execution_count": 22,
   "id": "d54ffc31-864b-4a1b-9f17-c9f56aa3ac1d",
   "metadata": {},
   "outputs": [],
   "source": [
    "# Serializes model in disk. The serialized format is a directory. [8]\n",
    "model.save('example_001.h5')"
   ]
  },
  {
   "cell_type": "code",
   "execution_count": 23,
   "id": "dc886615-76eb-47b3-9b69-d73275c7976f",
   "metadata": {},
   "outputs": [
    {
     "data": {
      "image/png": "[encoded data removed]",
      "text/plain": [
       "<IPython.core.display.Image object>"
      ]
     },
     "execution_count": 23,
     "metadata": {},
     "output_type": "execute_result"
    }
   ],
   "source": [
    "model_02 = keras.models.load_model('example_001.h5')\n",
    "tf.keras.utils.plot_model(model_02, show_shapes=True)"
   ]
  },
  {
   "cell_type": "code",
   "execution_count": 24,
   "id": "a8e6ba38-eade-44a7-9c6d-0ec8351df8c2",
   "metadata": {},
   "outputs": [
    {
     "data": {
      "text/plain": [
       "'{\"class_name\": \"Sequential\", \"config\": {\"name\": \"sequential\", \"layers\": [{\"class_name\": \"InputLayer\", \"config\": {\"batch_input_shape\": [null, 784], \"dtype\": \"float32\", \"sparse\": false, \"ragged\": false, \"name\": \"dense_input\"}}, {\"class_name\": \"Dense\", \"config\": {\"name\": \"dense\", \"trainable\": true, \"batch_input_shape\": [null, 784], \"dtype\": \"float32\", \"units\": 30, \"activation\": \"relu\", \"use_bias\": true, \"kernel_initializer\": {\"class_name\": \"GlorotUniform\", \"config\": {\"seed\": null}}, \"bias_initializer\": {\"class_name\": \"Zeros\", \"config\": {}}, \"kernel_regularizer\": null, \"bias_regularizer\": null, \"activity_regularizer\": null, \"kernel_constraint\": null, \"bias_constraint\": null}}, {\"class_name\": \"Dense\", \"config\": {\"name\": \"dense_1\", \"trainable\": true, \"dtype\": \"float32\", \"units\": 20, \"activation\": \"relu\", \"use_bias\": true, \"kernel_initializer\": {\"class_name\": \"GlorotUniform\", \"config\": {\"seed\": null}}, \"bias_initializer\": {\"class_name\": \"Zeros\", \"config\": {}}, \"kernel_regularizer\": null, \"bias_regularizer\": null, \"activity_regularizer\": null, \"kernel_constraint\": null, \"bias_constraint\": null}}, {\"class_name\": \"Dense\", \"config\": {\"name\": \"dense_2\", \"trainable\": true, \"dtype\": \"float32\", \"units\": 10, \"activation\": \"softmax\", \"use_bias\": true, \"kernel_initializer\": {\"class_name\": \"GlorotUniform\", \"config\": {\"seed\": null}}, \"bias_initializer\": {\"class_name\": \"Zeros\", \"config\": {}}, \"kernel_regularizer\": null, \"bias_regularizer\": null, \"activity_regularizer\": null, \"kernel_constraint\": null, \"bias_constraint\": null}}]}, \"keras_version\": \"2.5.0\", \"backend\": \"tensorflow\"}'"
      ]
     },
     "execution_count": 24,
     "metadata": {},
     "output_type": "execute_result"
    }
   ],
   "source": [
    "# saves model's architecture to JSON (you can do the same to YAML)\n",
    "model_arch_json = model.to_json()\n",
    "model_arch_json"
   ]
  },
  {
   "cell_type": "code",
   "execution_count": 25,
   "id": "b2e6c23e-8207-409c-868e-151471d65692",
   "metadata": {},
   "outputs": [
    {
     "name": "stdout",
     "output_type": "stream",
     "text": [
      "Model: \"sequential\"\n",
      "_________________________________________________________________\n",
      "Layer (type)                 Output Shape              Param #   \n",
      "=================================================================\n",
      "dense (Dense)                (None, 30)                23550     \n",
      "_________________________________________________________________\n",
      "dense_1 (Dense)              (None, 20)                620       \n",
      "_________________________________________________________________\n",
      "dense_2 (Dense)              (None, 10)                210       \n",
      "=================================================================\n",
      "Total params: 24,380\n",
      "Trainable params: 24,380\n",
      "Non-trainable params: 0\n",
      "_________________________________________________________________\n"
     ]
    }
   ],
   "source": [
    "model_03 = tf.keras.models.model_from_json(model_arch_json)\n",
    "model_03.summary()"
   ]
  },
  {
   "cell_type": "code",
   "execution_count": 26,
   "id": "69519d8a-976c-4379-ae7f-0e6b200a3237",
   "metadata": {},
   "outputs": [
    {
     "name": "stdout",
     "output_type": "stream",
     "text": [
      "[[-0.00038685  0.02368603 -0.0609418  ...  0.01627246 -0.07376067\n",
      "  -0.07889044]\n",
      " [-0.1089149   0.14313117 -0.02884576 ...  0.01669067  0.09999301\n",
      "  -0.12490407]\n",
      " [ 0.0664205   0.07086997 -0.18036419 ...  0.16650048  0.04709033\n",
      "  -0.08547745]\n",
      " ...\n",
      " [-0.06224277 -0.02600387  0.04086712 ...  0.12218028  0.16073656\n",
      "   0.12564567]\n",
      " [ 0.00260231 -0.10680392  0.02557778 ... -0.05494652 -0.06626508\n",
      "   0.12875989]\n",
      " [-0.00685543 -0.09585844  0.09956078 ... -0.02346054  0.15009221\n",
      "   0.10553617]]\n",
      "[[-0.00038685  0.02368603 -0.0609418  ...  0.01627246 -0.07376067\n",
      "  -0.07889044]\n",
      " [-0.1089149   0.14313117 -0.02884576 ...  0.01669067  0.09999301\n",
      "  -0.12490407]\n",
      " [ 0.0664205   0.07086997 -0.18036419 ...  0.16650048  0.04709033\n",
      "  -0.08547745]\n",
      " ...\n",
      " [-0.06224277 -0.02600387  0.04086712 ...  0.12218028  0.16073656\n",
      "   0.12564567]\n",
      " [ 0.00260231 -0.10680392  0.02557778 ... -0.05494652 -0.06626508\n",
      "   0.12875989]\n",
      " [-0.00685543 -0.09585844  0.09956078 ... -0.02346054  0.15009221\n",
      "   0.10553617]]\n"
     ]
    }
   ],
   "source": [
    "# it is possible also to only export weights. This can be useful in case low-cost \n",
    "# transfering trainning models that the architecture is known beforehand. \n",
    "model_02.save_weights('model_02_weights.h5')\n",
    "model_03.load_weights('model_02_weights.h5')\n",
    "print(model_03.get_weights()[0])\n",
    "print(model_02.get_weights()[0])"
   ]
  },
  {
   "cell_type": "markdown",
   "id": "84cf4d42-8383-423f-98da-6061e416276a",
   "metadata": {},
   "source": [
    "## Convolutional Neural Networks"
   ]
  },
  {
   "cell_type": "markdown",
   "id": "4707b36c-47ba-4592-b56e-ee3c2fdd1de7",
   "metadata": {},
   "source": [
    "### Importing Libraries"
   ]
  },
  {
   "cell_type": "code",
   "execution_count": 27,
   "id": "d3259907-02ee-4d95-b71d-e8e977664adb",
   "metadata": {},
   "outputs": [],
   "source": [
    "from tensorflow.keras.layers import Activation, Dense, Flatten, BatchNormalization, Conv2D, MaxPool2D\n",
    "from tensorflow.keras.optimizers import Adam\n",
    "from tensorflow.keras.metrics import categorical_crossentropy\n",
    "from tensorflow.keras.preprocessing.image import ImageDataGenerator\n",
    "import tensorflow.keras.applications.vgg16 as vgg16\n",
    "\n",
    "import warnings\n",
    "warnings.simplefilter(action='ignore', category=FutureWarning)"
   ]
  },
  {
   "cell_type": "markdown",
   "id": "9bdacd73-2cda-4c71-8606-614ff8d69519",
   "metadata": {},
   "source": [
    "### Checking Phsical Devices"
   ]
  },
  {
   "cell_type": "code",
   "execution_count": 28,
   "id": "707a2c40-cbcd-4f39-bdc3-7edea242489e",
   "metadata": {},
   "outputs": [
    {
     "data": {
      "text/plain": [
       "[]"
      ]
     },
     "execution_count": 28,
     "metadata": {},
     "output_type": "execute_result"
    }
   ],
   "source": [
    "tf.config.experimental.list_physical_devices('GPU')"
   ]
  },
  {
   "cell_type": "code",
   "execution_count": 29,
   "id": "13f2bfd8-7ff8-42f1-b9be-be5a3160466b",
   "metadata": {},
   "outputs": [
    {
     "data": {
      "text/plain": [
       "[PhysicalDevice(name='/physical_device:CPU:0', device_type='CPU')]"
      ]
     },
     "execution_count": 29,
     "metadata": {},
     "output_type": "execute_result"
    }
   ],
   "source": [
    "tf.config.experimental.list_physical_devices('CPU')"
   ]
  },
  {
   "cell_type": "markdown",
   "id": "075efe7d-a11d-424f-bd49-fd3a819ad690",
   "metadata": {},
   "source": [
    "### Treating/Loading Image Dataset"
   ]
  },
  {
   "cell_type": "code",
   "execution_count": 34,
   "id": "f8f064da-7ad3-4960-8677-b91674413309",
   "metadata": {},
   "outputs": [
    {
     "name": "stdout",
     "output_type": "stream",
     "text": [
      "Found 0 images belonging to 2 classes.\n",
      "Found 0 images belonging to 2 classes.\n",
      "Found 50 images belonging to 2 classes.\n"
     ]
    }
   ],
   "source": [
    "train_path = 'data/cats_vs_dogs/train'\n",
    "valid_path = 'data/cats_vs_dogs/valid'\n",
    "test_path = 'data/cats_vs_dogs/test'\n",
    "\n",
    "train_batches = ImageDataGenerator(preprocessing_function=vgg16.preprocess_input)\n",
    "train_batches = train_batches.flow_from_directory(directory=train_path, target_size=(224,224), classes=['cat', 'dog'], batch_size=10)\n",
    "valid_batches = ImageDataGenerator(preprocessing_function=vgg16.preprocess_input)\n",
    "valid_batches = valid_batches.flow_from_directory(directory=valid_path, target_size=(224,224), classes=['cat', 'dog'], batch_size=10)\n",
    "test_batches = ImageDataGenerator(preprocessing_function=vgg16.preprocess_input)\n",
    "test_batches = test_batches.flow_from_directory(directory=test_path, target_size=(224,224), classes=['cat', 'dog'], batch_size=10)"
   ]
  },
  {
   "cell_type": "code",
   "execution_count": 31,
   "id": "ab6e7ad4-69a3-442b-957c-85e1ca7bbca1",
   "metadata": {},
   "outputs": [],
   "source": [
    "# Grabing one single batch\n",
    "imgs, labels = next(train_batches)"
   ]
  },
  {
   "cell_type": "code",
   "execution_count": 33,
   "id": "8ca30084-8f02-42e8-bd9f-4a6c48d90440",
   "metadata": {},
   "outputs": [
    {
     "data": {
      "image/png": "[encoded data removed]",
      "text/plain": [
       "<Figure size 1440x1440 with 10 Axes>"
      ]
     },
     "metadata": {
      "needs_background": "light"
     },
     "output_type": "display_data"
    },
    {
     "name": "stdout",
     "output_type": "stream",
     "text": [
      "[]\n"
     ]
    }
   ],
   "source": [
    "# Auxiliar function for ploting sample\n",
    "def plot(images_arr):\n",
    "    fig, axes = plt.subplots(1, 10, figsize=(20,20))\n",
    "    axes = axes.flatten()\n",
    "    for img, ax in zip(images_arr, axes):\n",
    "        ax.imshow(img)\n",
    "        ax.axis('off')\n",
    "    plt.tight_layout()\n",
    "    plt.show()\n",
    "\n",
    "plot(imgs)\n",
    "print(labels)"
   ]
  },
  {
   "cell_type": "markdown",
   "id": "d3a6d0e6-1359-42e9-a91f-52a10e5febcf",
   "metadata": {},
   "source": [
    "## References"
   ]
  },
  {
   "cell_type": "markdown",
   "id": "8ed4f338-753a-4b88-a3ae-9acfc633f764",
   "metadata": {},
   "source": [
    "1. https://www.tensorflow.org/guide/keras\n",
    "1. https://www.kaggle.com/zalando-research/fashionmnist\n",
    "1. https://keras.io/api/models/\n",
    "1. https://keras.io/api/layers/activations/\n",
    "1. https://www.tutorialspoint.com/keras/keras_layers.htm\n",
    "1. https://www.youtube.com/watch?v=qFJeN9V1ZsI (****)\n",
    "1. https://www.youtube.com/watch?v=J6Ok8p463C4 (****)\n",
    "1. https://keras.io/guides/serialization_and_saving/\n",
    "1. https://keras.io/api/optimizers/\n",
    "1. https://scikit-learn.org/0.18/auto_examples/model_selection/plot_confusion_matrix.html\n",
    "1. https://deeplizard.com/learn/video/RznKVRTFkBY (****)\n",
    "1. https://towardsdatascience.com/step-by-step-vgg16-implementation-in-keras-for-beginners-a833c686ae6c"
   ]
  },
  {
   "cell_type": "code",
   "execution_count": null,
   "id": "cdc948b6-c554-402c-91cf-f1c1cc497c9a",
   "metadata": {},
   "outputs": [],
   "source": []
  }
 ],
 "metadata": {
  "kernelspec": {
   "display_name": "Python 3 (ipykernel)",
   "language": "python",
   "name": "python3"
  },
  "language_info": {
   "codemirror_mode": {
    "name": "ipython",
    "version": 3
   },
   "file_extension": ".py",
   "mimetype": "text/x-python",
   "name": "python",
   "nbconvert_exporter": "python",
   "pygments_lexer": "ipython3",
   "version": "3.8.3"
  }
 },
 "nbformat": 4,
 "nbformat_minor": 5
}
