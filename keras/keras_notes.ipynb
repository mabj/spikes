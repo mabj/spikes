{
 "cells": [
  {
   "cell_type": "markdown",
   "id": "4fb9211e-0088-43b6-bfea-afa8f4637f58",
   "metadata": {},
   "source": [
    "## Loading library"
   ]
  },
  {
   "cell_type": "markdown",
   "id": "61351b8c-ef95-4dd2-a3b0-c24ac01ef9a7",
   "metadata": {},
   "source": [
    "*Tensor Flow* library is a requirement to Keras. To install it do: `pip3 install tensorflow`."
   ]
  },
  {
   "cell_type": "code",
   "execution_count": 2,
   "id": "b868e0ba-7634-4a2f-9752-f4b38e12a249",
   "metadata": {},
   "outputs": [],
   "source": [
    "import tensorflow as tf\n",
    "from tensorflow import keras"
   ]
  },
  {
   "cell_type": "code",
   "execution_count": 3,
   "id": "4e4a966d-b1c6-40c8-a6ba-c01d23df47c4",
   "metadata": {},
   "outputs": [
    {
     "data": {
      "text/plain": [
       "'2.5.0'"
      ]
     },
     "execution_count": 3,
     "metadata": {},
     "output_type": "execute_result"
    }
   ],
   "source": [
    "keras.__version__"
   ]
  },
  {
   "cell_type": "markdown",
   "id": "500ba51c-1295-4122-b594-12b598a1e544",
   "metadata": {},
   "source": [
    "## Loading dataset using Pandas"
   ]
  },
  {
   "cell_type": "code",
   "execution_count": 4,
   "id": "352000c2-e399-4268-a8ba-84afd53a10ab",
   "metadata": {},
   "outputs": [],
   "source": [
    "import pandas as pd"
   ]
  },
  {
   "cell_type": "code",
   "execution_count": 7,
   "id": "7059b614-4f3f-4a70-b9f9-2afebc7bbfb0",
   "metadata": {},
   "outputs": [
    {
     "name": "stdout",
     "output_type": "stream",
     "text": [
      "(60000, 785)\n"
     ]
    },
    {
     "data": {
      "text/html": [
       "<div>\n",
       "<style scoped>\n",
       "    .dataframe tbody tr th:only-of-type {\n",
       "        vertical-align: middle;\n",
       "    }\n",
       "\n",
       "    .dataframe tbody tr th {\n",
       "        vertical-align: top;\n",
       "    }\n",
       "\n",
       "    .dataframe thead th {\n",
       "        text-align: right;\n",
       "    }\n",
       "</style>\n",
       "<table border=\"1\" class=\"dataframe\">\n",
       "  <thead>\n",
       "    <tr style=\"text-align: right;\">\n",
       "      <th></th>\n",
       "      <th>label</th>\n",
       "      <th>pixel1</th>\n",
       "      <th>pixel2</th>\n",
       "      <th>pixel3</th>\n",
       "      <th>pixel4</th>\n",
       "      <th>pixel5</th>\n",
       "      <th>pixel6</th>\n",
       "      <th>pixel7</th>\n",
       "      <th>pixel8</th>\n",
       "      <th>pixel9</th>\n",
       "      <th>...</th>\n",
       "      <th>pixel775</th>\n",
       "      <th>pixel776</th>\n",
       "      <th>pixel777</th>\n",
       "      <th>pixel778</th>\n",
       "      <th>pixel779</th>\n",
       "      <th>pixel780</th>\n",
       "      <th>pixel781</th>\n",
       "      <th>pixel782</th>\n",
       "      <th>pixel783</th>\n",
       "      <th>pixel784</th>\n",
       "    </tr>\n",
       "  </thead>\n",
       "  <tbody>\n",
       "    <tr>\n",
       "      <th>0</th>\n",
       "      <td>2</td>\n",
       "      <td>0</td>\n",
       "      <td>0</td>\n",
       "      <td>0</td>\n",
       "      <td>0</td>\n",
       "      <td>0</td>\n",
       "      <td>0</td>\n",
       "      <td>0</td>\n",
       "      <td>0</td>\n",
       "      <td>0</td>\n",
       "      <td>...</td>\n",
       "      <td>0</td>\n",
       "      <td>0</td>\n",
       "      <td>0</td>\n",
       "      <td>0</td>\n",
       "      <td>0</td>\n",
       "      <td>0</td>\n",
       "      <td>0</td>\n",
       "      <td>0</td>\n",
       "      <td>0</td>\n",
       "      <td>0</td>\n",
       "    </tr>\n",
       "    <tr>\n",
       "      <th>1</th>\n",
       "      <td>9</td>\n",
       "      <td>0</td>\n",
       "      <td>0</td>\n",
       "      <td>0</td>\n",
       "      <td>0</td>\n",
       "      <td>0</td>\n",
       "      <td>0</td>\n",
       "      <td>0</td>\n",
       "      <td>0</td>\n",
       "      <td>0</td>\n",
       "      <td>...</td>\n",
       "      <td>0</td>\n",
       "      <td>0</td>\n",
       "      <td>0</td>\n",
       "      <td>0</td>\n",
       "      <td>0</td>\n",
       "      <td>0</td>\n",
       "      <td>0</td>\n",
       "      <td>0</td>\n",
       "      <td>0</td>\n",
       "      <td>0</td>\n",
       "    </tr>\n",
       "    <tr>\n",
       "      <th>2</th>\n",
       "      <td>6</td>\n",
       "      <td>0</td>\n",
       "      <td>0</td>\n",
       "      <td>0</td>\n",
       "      <td>0</td>\n",
       "      <td>0</td>\n",
       "      <td>0</td>\n",
       "      <td>0</td>\n",
       "      <td>5</td>\n",
       "      <td>0</td>\n",
       "      <td>...</td>\n",
       "      <td>0</td>\n",
       "      <td>0</td>\n",
       "      <td>0</td>\n",
       "      <td>30</td>\n",
       "      <td>43</td>\n",
       "      <td>0</td>\n",
       "      <td>0</td>\n",
       "      <td>0</td>\n",
       "      <td>0</td>\n",
       "      <td>0</td>\n",
       "    </tr>\n",
       "    <tr>\n",
       "      <th>3</th>\n",
       "      <td>0</td>\n",
       "      <td>0</td>\n",
       "      <td>0</td>\n",
       "      <td>0</td>\n",
       "      <td>1</td>\n",
       "      <td>2</td>\n",
       "      <td>0</td>\n",
       "      <td>0</td>\n",
       "      <td>0</td>\n",
       "      <td>0</td>\n",
       "      <td>...</td>\n",
       "      <td>3</td>\n",
       "      <td>0</td>\n",
       "      <td>0</td>\n",
       "      <td>0</td>\n",
       "      <td>0</td>\n",
       "      <td>1</td>\n",
       "      <td>0</td>\n",
       "      <td>0</td>\n",
       "      <td>0</td>\n",
       "      <td>0</td>\n",
       "    </tr>\n",
       "    <tr>\n",
       "      <th>4</th>\n",
       "      <td>3</td>\n",
       "      <td>0</td>\n",
       "      <td>0</td>\n",
       "      <td>0</td>\n",
       "      <td>0</td>\n",
       "      <td>0</td>\n",
       "      <td>0</td>\n",
       "      <td>0</td>\n",
       "      <td>0</td>\n",
       "      <td>0</td>\n",
       "      <td>...</td>\n",
       "      <td>0</td>\n",
       "      <td>0</td>\n",
       "      <td>0</td>\n",
       "      <td>0</td>\n",
       "      <td>0</td>\n",
       "      <td>0</td>\n",
       "      <td>0</td>\n",
       "      <td>0</td>\n",
       "      <td>0</td>\n",
       "      <td>0</td>\n",
       "    </tr>\n",
       "  </tbody>\n",
       "</table>\n",
       "<p>5 rows × 785 columns</p>\n",
       "</div>"
      ],
      "text/plain": [
       "   label  pixel1  pixel2  pixel3  pixel4  pixel5  pixel6  pixel7  pixel8  \\\n",
       "0      2       0       0       0       0       0       0       0       0   \n",
       "1      9       0       0       0       0       0       0       0       0   \n",
       "2      6       0       0       0       0       0       0       0       5   \n",
       "3      0       0       0       0       1       2       0       0       0   \n",
       "4      3       0       0       0       0       0       0       0       0   \n",
       "\n",
       "   pixel9  ...  pixel775  pixel776  pixel777  pixel778  pixel779  pixel780  \\\n",
       "0       0  ...         0         0         0         0         0         0   \n",
       "1       0  ...         0         0         0         0         0         0   \n",
       "2       0  ...         0         0         0        30        43         0   \n",
       "3       0  ...         3         0         0         0         0         1   \n",
       "4       0  ...         0         0         0         0         0         0   \n",
       "\n",
       "   pixel781  pixel782  pixel783  pixel784  \n",
       "0         0         0         0         0  \n",
       "1         0         0         0         0  \n",
       "2         0         0         0         0  \n",
       "3         0         0         0         0  \n",
       "4         0         0         0         0  \n",
       "\n",
       "[5 rows x 785 columns]"
      ]
     },
     "execution_count": 7,
     "metadata": {},
     "output_type": "execute_result"
    }
   ],
   "source": [
    "data_train_file = 'data/fashion-mnist_train.csv'\n",
    "data_test_file = 'data/fashion-mnist_test.csv'\n",
    "\n",
    "# this method returns a pandas DataFrame object \"pandas.core.frame.DataFrame\"\n",
    "data_train = pd.read_csv(data_train_file)\n",
    "data_test = pd.read_csv(data_test_file)\n",
    "\n",
    "print(data_train.shape)\n",
    "data_train.head()"
   ]
  },
  {
   "cell_type": "markdown",
   "id": "be10b4c3-fa8c-4d04-9935-8c1cb4016323",
   "metadata": {},
   "source": [
    "## Treating data"
   ]
  },
  {
   "cell_type": "code",
   "execution_count": 8,
   "id": "b69eb427-e576-4f31-9c25-89596ae82e3a",
   "metadata": {},
   "outputs": [
    {
     "name": "stdout",
     "output_type": "stream",
     "text": [
      "Shape of trainning feature dataset: (60000, 784)\n",
      "Shape of trainning labels dataset: (60000, 10)\n"
     ]
    }
   ],
   "source": [
    "# This function slices a panda data frame into two arrays. The first with labels and the other with\n",
    "# all samples and their features - one by line. \n",
    "def treat_raw_data_frame(data_frame):\n",
    "    # data is normalized to the max valua a pixel can take (255) - Gray Scale\n",
    "    # each sample is a 28x28 array serialized\n",
    "    features = data_frame.values[:, 1:]/255\n",
    "\n",
    "    labels = data_frame.label.values\n",
    "\n",
    "    # transforming labels to \"one-hot\" format\n",
    "    labels = tf.keras.utils.to_categorical(labels)\n",
    "    return labels, features\n",
    "\n",
    "train_labels, train_features = treat_raw_data_frame(data_train)\n",
    "test_labels, test_features = treat_raw_data_frame(data_test)\n",
    "\n",
    "print(\"Shape of trainning feature dataset: {}\".format(train_features.shape))\n",
    "print(\"Shape of trainning labels dataset: {}\".format(train_labels.shape))"
   ]
  },
  {
   "cell_type": "code",
   "execution_count": 9,
   "id": "53d02db3-ed88-41f9-9ff7-ee7bb5eaa1ff",
   "metadata": {},
   "outputs": [
    {
     "data": {
      "text/plain": [
       "array([0.        , 0.        , 0.        , 0.        , 0.24313725,\n",
       "       0.23921569, 0.08235294, 0.11372549, 0.09019608, 0.2       ,\n",
       "       0.53333333, 0.23921569, 0.        , 0.        , 0.        ,\n",
       "       0.        , 0.        , 0.        , 0.        , 0.        ])"
      ]
     },
     "execution_count": 9,
     "metadata": {},
     "output_type": "execute_result"
    }
   ],
   "source": [
    "train_features[0, 90:110]"
   ]
  },
  {
   "cell_type": "markdown",
   "id": "ac264c85-cfca-407e-a1da-161b0f86eec2",
   "metadata": {},
   "source": [
    "## Visualizing samples using matplotlib"
   ]
  },
  {
   "cell_type": "code",
   "execution_count": 10,
   "id": "238a614d-2843-4eb3-bd2c-910d50cffde5",
   "metadata": {},
   "outputs": [
    {
     "data": {
      "image/png": "[encoded data removed]",
      "text/plain": [
       "<Figure size 432x288 with 1 Axes>"
      ]
     },
     "metadata": {
      "needs_background": "light"
     },
     "output_type": "display_data"
    }
   ],
   "source": [
    "import numpy as np\n",
    "import matplotlib.pyplot as plt\n",
    "%matplotlib inline\n",
    "\n",
    "# This functions plots a sample rechape array into a 28x28 2 dimensional array\n",
    "def plot(data_set, index):\n",
    "    plt.figure()\n",
    "    plt.imshow(np.reshape(data_set[index, :], (28,28)), \"gray\")\n",
    "\n",
    "plot(train_features, 4)"
   ]
  },
  {
   "cell_type": "markdown",
   "id": "55e212b5-1e92-41d6-b8a0-5db009278a53",
   "metadata": {},
   "source": [
    "## Designing the Model"
   ]
  },
  {
   "cell_type": "code",
   "execution_count": 12,
   "id": "10096227-bb54-4aae-b1d4-7b1eaa84ab5d",
   "metadata": {},
   "outputs": [
    {
     "data": {
      "image/png": "[encoded data removed]",
      "text/plain": [
       "<IPython.core.display.Image object>"
      ]
     },
     "execution_count": 12,
     "metadata": {},
     "output_type": "execute_result"
    }
   ],
   "source": [
    "import os\n",
    "os.environ['TF_CPP_MIN_LOG_LEVEL'] = '2'\n",
    "\n",
    "# Define a sequential model. This defines the way Keras will generate a model. Keras has three different\n",
    "# type of models: sequential, functional and subclassing [3].\n",
    "model = tf.keras.Sequential()\n",
    "\n",
    "# Two hidden layers, activation function is rectified linear unit\n",
    "# all activation functions can be found at [4]\n",
    "model.add(tf.keras.layers.Dense(30, activation=tf.nn.relu, input_shape=(784,)))\n",
    "model.add(tf.keras.layers.Dense(20, activation=tf.nn.relu))\n",
    "\n",
    "# Output layer\n",
    "model.add(tf.keras.layers.Dense(10, activation=tf.nn.softmax))\n",
    "\n",
    "# Keras provides resource for plotting the Neural Network architecture and parameters.\n",
    "tf.keras.utils.plot_model(model, to_file=\"model.png\", show_shapes=True)"
   ]
  },
  {
   "cell_type": "markdown",
   "id": "d3a6d0e6-1359-42e9-a91f-52a10e5febcf",
   "metadata": {},
   "source": [
    "## References"
   ]
  },
  {
   "cell_type": "markdown",
   "id": "8ed4f338-753a-4b88-a3ae-9acfc633f764",
   "metadata": {},
   "source": [
    "1. https://www.tensorflow.org/guide/keras\n",
    "1. https://www.kaggle.com/zalando-research/fashionmnist\n",
    "1. https://keras.io/api/models/\n",
    "1. https://keras.io/api/layers/activations/"
   ]
  }
 ],
 "metadata": {
  "kernelspec": {
   "display_name": "Python 3 (ipykernel)",
   "language": "python",
   "name": "python3"
  },
  "language_info": {
   "codemirror_mode": {
    "name": "ipython",
    "version": 3
   },
   "file_extension": ".py",
   "mimetype": "text/x-python",
   "name": "python",
   "nbconvert_exporter": "python",
   "pygments_lexer": "ipython3",
   "version": "3.8.3"
  }
 },
 "nbformat": 4,
 "nbformat_minor": 5
}
